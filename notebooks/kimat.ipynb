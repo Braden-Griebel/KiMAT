{
 "cells": [
  {
   "cell_type": "markdown",
   "id": "0e3ca29e-12ef-4153-8fa2-96b279a0d3df",
   "metadata": {},
   "source": [
    "## Imports"
   ]
  },
  {
   "cell_type": "code",
   "execution_count": 5,
   "id": "5f067f1b-f9c8-45ad-b180-8ea6767b4278",
   "metadata": {},
   "outputs": [],
   "source": [
    "# Standard Library imports\n",
    "import os\n",
    "import pathlib\n",
    "\n",
    "# External Imports\n",
    "import cobra\n",
    "from cobra.flux_analysis import single_gene_deletion\n",
    "import metworkpy\n",
    "import numpy as np\n",
    "import pandas as pd\n",
    "\n",
    "# Local Imports"
   ]
  },
  {
   "cell_type": "markdown",
   "id": "6f20b813-34af-4085-bdf1-a09844816aeb",
   "metadata": {},
   "source": [
    "## Setup"
   ]
  },
  {
   "cell_type": "code",
   "execution_count": 6,
   "id": "a368da38-3c86-48e1-8017-532672075431",
   "metadata": {},
   "outputs": [
    {
     "data": {
      "text/plain": [
       "'/home/bgriebel'"
      ]
     },
     "execution_count": 6,
     "metadata": {},
     "output_type": "execute_result"
    }
   ],
   "source": [
    "cobra.Configuration.solver = \"cplex\"\n",
    "## Local Developement\n",
    "# BASE_PATH = pathlib.Path(\"..\")\n",
    "## HPC\n",
    "HOME = os.getenv(\"HOME\")\n",
    "BASE_PATH = pathlib.Path(HOME) / \"projects\" / \"KiMAT\""
   ]
  },
  {
   "cell_type": "markdown",
   "id": "f80f06ea-7bc5-4c0f-870c-b44e60708da6",
   "metadata": {},
   "source": [
    "## Data Preparation"
   ]
  },
  {
   "cell_type": "code",
   "execution_count": 9,
   "id": "13feb7a8-f1cf-4da3-a875-380018ecb17b",
   "metadata": {},
   "outputs": [],
   "source": [
    "# Read in gene expression\n",
    "gene_expression = pd.read_csv(BASE_PATH / 'data' / 'gene-expression' / 'kinase_RNA_seq.csv', index_col=0).drop( \"GrowthPhase\", axis=1)\n",
    "# Convert the RPKM measurements into TPM\n",
    "gene_expression = metworkpy.utils.rpkm_to_tpm(gene_expression)\n",
    "# Read in quantile normalized gene expression\n",
    "normalized_expression = pd.read_csv(BASE_PATH / \"data\" / \"quant_normed\" / \"xprs_norm.tsv\", sep=\"\\t\", index_col=0).transpose()"
   ]
  },
  {
   "cell_type": "code",
   "execution_count": 30,
   "id": "fcc0d5e4-0d98-4179-9ae3-a447b8064942",
   "metadata": {},
   "outputs": [],
   "source": [
    "# Separate the expression data into biological replicates\n",
    "expr_dict = {\n",
    "    \"WT\":None,\n",
    "    \"PknB_KD\":None,\n",
    "    \"PknB_IND\":None,\n",
    "    \"PknD_KO\":None,\n",
    "    \"PknD_IND\":None,\n",
    "    \"PknE_KO\":None,\n",
    "    \"PknE_IND\":None,\n",
    "    \"PknF_KO\":None,\n",
    "    \"PknF_IND\":None,\n",
    "    \"PknG_KO\":None,\n",
    "    \"PknG_IND\":None,\n",
    "    \"PknH_KO\":None,\n",
    "    \"PknH_IND\":None,\n",
    "    \"PknJ_KO\":None,\n",
    "    \"PknJ_IND\":None,\n",
    "    \"PknK_KO\":None,\n",
    "    \"PknK_IND\":None,\n",
    "    \"PknL_KO\":None,\n",
    "    \"PknL_IND\":None,\n",
    "}\n",
    "norm_expr_dict = {\n",
    "    \"WT\":None,\n",
    "    \"PknB_KD\":None,\n",
    "    \"PknB_IND\":None,\n",
    "    \"PknD_KO\":None,\n",
    "    \"PknD_IND\":None,\n",
    "    \"PknE_KO\":None,\n",
    "    \"PknE_IND\":None,\n",
    "    \"PknF_KO\":None,\n",
    "    \"PknF_IND\":None,\n",
    "    \"PknG_KO\":None,\n",
    "    \"PknG_IND\":None,\n",
    "    \"PknH_KO\":None,\n",
    "    \"PknH_IND\":None,\n",
    "    \"PknJ_KO\":None,\n",
    "    \"PknJ_IND\":None,\n",
    "    \"PknK_KO\":None,\n",
    "    \"PknK_IND\":None,\n",
    "    \"PknL_KO\":None,\n",
    "    \"PknL_IND\":None,\n",
    "}\n",
    "\n",
    "\n",
    "for condition in expr_dict:\n",
    "    expr_dict[condition] = gene_expression.loc[gene_expression.index.str.startswith(condition)]\n",
    "    norm_expr_dict[condition] = normalized_expression.loc[normalized_expression.index.str.startswith(condition)]"
   ]
  },
  {
   "cell_type": "markdown",
   "id": "7e32e0c2-f7ca-4989-9ece-94cc09bda386",
   "metadata": {},
   "source": [
    "## Read in Base Model"
   ]
  },
  {
   "cell_type": "code",
   "execution_count": 65,
   "id": "c6b0e4ba-0fc5-4c70-9a4e-4afce7ff8a35",
   "metadata": {},
   "outputs": [],
   "source": [
    "iek1011 = metworkpy.read_model(BASE_PATH / \"data\" / \"Models\" / \"iEK1011_m7H10_media.json\")\n",
    "for method in [\"simple_bounds\", \"subset_model\", \"fva_model\", \"milp_model\"]:\n",
    "    metworkpy.write_model(iek1011, \n",
    "                          BASE_PATH / \"results\" / \"diff_expr_models\" / method / \"iek1011_WT_model.json\")"
   ]
  },
  {
   "cell_type": "markdown",
   "id": "2d120951-2359-4504-9cc1-82ee48cad2e5",
   "metadata": {},
   "source": [
    "## Convert Gene Expression into Trinarized Reactions"
   ]
  },
  {
   "cell_type": "code",
   "execution_count": 33,
   "id": "e5db11b6-e32a-45c8-9164-ca55ce7614cc",
   "metadata": {},
   "outputs": [],
   "source": [
    "rxn_weight_dict = {\n",
    "    \"WT\":None,\n",
    "    \"PknB_KD\":None,\n",
    "    \"PknB_IND\":None,\n",
    "    \"PknD_KO\":None,\n",
    "    \"PknD_IND\":None,\n",
    "    \"PknE_KO\":None,\n",
    "    \"PknE_IND\":None,\n",
    "    \"PknF_KO\":None,\n",
    "    \"PknF_IND\":None,\n",
    "    \"PknG_KO\":None,\n",
    "    \"PknG_IND\":None,\n",
    "    \"PknH_KO\":None,\n",
    "    \"PknH_IND\":None,\n",
    "    \"PknJ_KO\":None,\n",
    "    \"PknJ_IND\":None,\n",
    "    \"PknK_KO\":None,\n",
    "    \"PknK_IND\":None,\n",
    "    \"PknL_KO\":None,\n",
    "    \"PknL_IND\":None,\n",
    "}\n",
    "norm_rxn_weight_dict = {\n",
    "    \"WT\":None,\n",
    "    \"PknB_KD\":None,\n",
    "    \"PknB_IND\":None,\n",
    "    \"PknD_KO\":None,\n",
    "    \"PknD_IND\":None,\n",
    "    \"PknE_KO\":None,\n",
    "    \"PknE_IND\":None,\n",
    "    \"PknF_KO\":None,\n",
    "    \"PknF_IND\":None,\n",
    "    \"PknG_KO\":None,\n",
    "    \"PknG_IND\":None,\n",
    "    \"PknH_KO\":None,\n",
    "    \"PknH_IND\":None,\n",
    "    \"PknJ_KO\":None,\n",
    "    \"PknJ_IND\":None,\n",
    "    \"PknK_KO\":None,\n",
    "    \"PknK_IND\":None,\n",
    "    \"PknL_KO\":None,\n",
    "    \"PknL_IND\":None,\n",
    "}\n",
    "\n",
    "diff_rxn_weight_dict = {\n",
    "    \"PknB_KD\":None,\n",
    "    \"PknB_IND\":None,\n",
    "    \"PknD_KO\":None,\n",
    "    \"PknD_IND\":None,\n",
    "    \"PknE_KO\":None,\n",
    "    \"PknE_IND\":None,\n",
    "    \"PknF_KO\":None,\n",
    "    \"PknF_IND\":None,\n",
    "    \"PknG_KO\":None,\n",
    "    \"PknG_IND\":None,\n",
    "    \"PknH_KO\":None,\n",
    "    \"PknH_IND\":None,\n",
    "    \"PknJ_KO\":None,\n",
    "    \"PknJ_IND\":None,\n",
    "    \"PknK_KO\":None,\n",
    "    \"PknK_IND\":None,\n",
    "    \"PknL_KO\":None,\n",
    "    \"PknL_IND\":None,\n",
    "}\n",
    "\n",
    "wt_expression = gene_expression.loc[gene_expression.index.str.startswith(\"WT\")].median(axis=0)+1e-10\n",
    "\n",
    "for condition in rxn_weight_dict:\n",
    "    p = BASE_PATH / 'cache' / 'rxn_weights' / f'{condition}_rxn_weights.json'\n",
    "    norm_p = BASE_PATH / 'cache' /'norm_rxn_weights' / f'{condition}_rxn_weights.json'\n",
    "    if p.exists():\n",
    "        rxn_weight_dict[condition] = pd.read_json(p, typ = \"series\")\n",
    "    else: \n",
    "        gene_weights = metworkpy.utils.expr_to_weights(expression = expr_dict[condition],\n",
    "                                                      quantile = 0.15, \n",
    "                                                      subset = iek1011.genes.list_attr(\"id\"),\n",
    "                                                      sample_axis=0)\n",
    "        rxn_weight_dict[condition] = metworkpy.parse.gene_to_rxn_weights(iek1011, gene_weights)\n",
    "        rxn_weight_dict[condition].to_json(p)\n",
    "    if norm_p.exists():\n",
    "        norm_rxn_weight_dict[condition] = pd.read_json(norm_p, typ = \"series\")\n",
    "    else: \n",
    "        norm_gene_weights = metworkpy.utils.expr_to_weights(expression = norm_expr_dict[condition],\n",
    "                                                      quantile = 0.15, \n",
    "                                                      subset = iek1011.genes.list_attr(\"id\"),\n",
    "                                                      sample_axis=0)\n",
    "        norm_rxn_weight_dict[condition] = metworkpy.parse.gene_to_rxn_weights(iek1011, norm_gene_weights)\n",
    "        norm_rxn_weight_dict[condition].to_json(norm_p)\n",
    "    if condition != \"WT\":\n",
    "        diff_p = BASE_PATH / \"cache\" / \"diff_rxn_weights\" / f\"{condition}_rxn_weights.json\"\n",
    "        if diff_p.exists():\n",
    "            diff_rxn_weight_dict[condition] = pd.read_jason(diff_p, typ=\"series\")\n",
    "        else:\n",
    "            log2fc = np.log2(gene_expression.loc[gene_expression.index.str.startswith(condition)].median(axis=0).div(wt_expression)+1e-10)\n",
    "            diff_gene_weights = log2fc.apply(lambda x: -1 if x<=-1 else (1 if x>=1 else 0))\n",
    "            diff_rxn_weight_dict[condition] = metworkpy.parse.gene_to_rxn_weights(iek1011, diff_gene_weights)\n",
    "            diff_rxn_weight_dict[condition].to_json(diff_p)"
   ]
  },
  {
   "cell_type": "markdown",
   "id": "92f07d59-0d50-49dc-8eac-de989d459909",
   "metadata": {},
   "source": [
    "## IMAT"
   ]
  },
  {
   "cell_type": "code",
   "execution_count": 37,
   "id": "624c1ffb-a7dc-4ace-9b54-031954d77eb3",
   "metadata": {},
   "outputs": [],
   "source": [
    "biomass_growth_df = pd.DataFrame(np.NaN, index = rxn_weight_dict.keys(), \n",
    "                                 columns=[\"simple_bounds\", \"subset_model\", \"fva_model\", \"milp_model\"],\n",
    "                                dtype=\"float\")\n",
    "norm_biomass_growth_df = pd.DataFrame(np.NaN, index = norm_rxn_weight_dict.keys(), \n",
    "                                 columns=[\"simple_bounds\", \"subset_model\", \"fva_model\", \"milp_model\"],\n",
    "                                dtype=\"float\")\n",
    "diff_biomass_growth_df = pd.DataFrame(np.NaN, index = norm_rxn_weight_dict.keys(), \n",
    "                                     columns = [\"simple_bounds\", \"subset_model\", \"fva_model\", \"milp_model\"],\n",
    "                                     dtype=\"float\")\n",
    "wt_objective = iek1011.slim_optimize()\n",
    "diff_biomass_growth_df.loc['WT'] = wt_objective"
   ]
  },
  {
   "cell_type": "code",
   "execution_count": 29,
   "id": "08d2190f-99f7-4df1-bed8-9c1c7cee68fd",
   "metadata": {},
   "outputs": [],
   "source": [
    "def imat_per_method(method, weights_dict, results_path, biomass_growth_df, skip_list=None):\n",
    "    print(f\"METHOD: {method}\")\n",
    "    print(\"**********************\")\n",
    "    for condition in weights_dict:\n",
    "        print(f\"\\tCondition: {condition}\")\n",
    "        print(\"\\t--------------\")\n",
    "        if condition in skip_list:\n",
    "            print(\"SKIPPED\")\n",
    "            continue\n",
    "        p = results_path / method / f\"iek1011_{condition}_model.json\"\n",
    "        if p.exists():\n",
    "            model = metworkpy.read_model(str(p))\n",
    "        else:\n",
    "            try:\n",
    "                model = metworkpy.imat.generate_model(model = iek1011.copy(), \n",
    "                                                      rxn_weights=weights_dict[condition],\n",
    "                                                     method = method)\n",
    "                metworkpy.write_model(model, model_path=p)\n",
    "            except Exception as exp:\n",
    "                continue\n",
    "        try:\n",
    "            biomass_growth_df.loc[condition, method] = model.slim_optimize()\n",
    "        except Exception as exp:\n",
    "            pass"
   ]
  },
  {
   "cell_type": "markdown",
   "id": "06660665-c600-4e8a-9215-759f73cbba5f",
   "metadata": {},
   "source": [
    "### Simple Bounds"
   ]
  },
  {
   "cell_type": "code",
   "execution_count": null,
   "id": "69ac9654-d189-4823-9550-a2618784270e",
   "metadata": {},
   "outputs": [],
   "source": [
    "imat_per_method(method=\"simple_bounds\", weights_dict=rxn_weight_dict, \n",
    "               results_path=BASE_PATH / \"results\" / \"expr_models\", \n",
    "                biomass_growth_df=biomass_growth_df)\n",
    "imat_per_method(method=\"simple_bounds\", weights_dict=norm_rxn_weight_dict, \n",
    "               results_path=BASE_PATH / \"results\" / \"norm_expr_models\", \n",
    "                biomass_growth_df=norm_biomass_growth_df)\n",
    "imat_per_method(method=\"simple_bounds\", weights_dict = diff_rxn_weight_dict, \n",
    "               results_path = BASE_PATH / \"results\" / \"diff_expr_models\",\n",
    "               biomass_growth_df = diff_biomass_growth_df)"
   ]
  },
  {
   "cell_type": "markdown",
   "id": "90c1fa61-84f1-4541-b956-c783d58aed02",
   "metadata": {},
   "source": [
    "### Subset Model"
   ]
  },
  {
   "cell_type": "code",
   "execution_count": null,
   "id": "82308696-6a41-4eb6-b9f5-b588bd36d4c8",
   "metadata": {},
   "outputs": [],
   "source": [
    "imat_per_method(method=\"subset_model\", weights_dict=rxn_weight_dict, \n",
    "               results_path=BASE_PATH / \"results\" / \"expr_models\", \n",
    "                biomass_growth_df=biomass_growth_df)\n",
    "imat_per_method(method=\"subset_model\", weights_dict=norm_rxn_weight_dict, \n",
    "               results_path=BASE_PATH / \"results\" / \"norm_expr_models\", \n",
    "                biomass_growth_df=norm_biomass_growth_df)\n",
    "imat_per_method(method=\"subset_model\", weights_dict = diff_rxn_weight_dict, \n",
    "               results_path = BASE_PATH / \"results\" / \"diff_expr_models\",\n",
    "               biomass_growth_df = diff_biomass_growth_df)"
   ]
  },
  {
   "cell_type": "markdown",
   "id": "a1140e41-4ea9-47b5-8811-f5789ede4742",
   "metadata": {},
   "source": [
    "### FVA Model"
   ]
  },
  {
   "cell_type": "code",
   "execution_count": null,
   "id": "6c6617e2-b20a-40ff-a610-1cae32afe042",
   "metadata": {},
   "outputs": [],
   "source": [
    "imat_per_method(method=\"fva_model\", weights_dict=rxn_weight_dict, \n",
    "               results_path=BASE_PATH / \"results\" / \"expr_models\", \n",
    "                biomass_growth_df=biomass_growth_df)\n",
    "imat_per_method(method=\"fva_model\", weights_dict=norm_rxn_weight_dict, \n",
    "               results_path=BASE_PATH / \"results\" / \"norm_expr_models\", \n",
    "                biomass_growth_df=norm_biomass_growth_df)\n",
    "imat_per_method(method=\"fva_model\", weights_dict = diff_rxn_weight_dict, \n",
    "               results_path = BASE_PATH / \"results\" / \"diff_expr_models\",\n",
    "               biomass_growth_df = diff_biomass_growth_df)"
   ]
  },
  {
   "cell_type": "markdown",
   "id": "1e915424-43cf-4c3c-a7c4-ee1b7e0b4575",
   "metadata": {},
   "source": [
    "### MILP Model"
   ]
  },
  {
   "cell_type": "code",
   "execution_count": null,
   "id": "74b20e76-dec2-4c5a-be00-09674d5c2fc2",
   "metadata": {},
   "outputs": [],
   "source": [
    "imat_per_method(method=\"milp_model\", weights_dict=rxn_weight_dict, \n",
    "               results_path=BASE_PATH / \"results\" / \"expr_models\", \n",
    "                biomass_growth_df=biomass_growth_df)\n",
    "imat_per_method(method=\"milp_model\", weights_dict=norm_rxn_weight_dict, \n",
    "               results_path=BASE_PATH / \"results\" / \"norm_expr_models\", \n",
    "                biomass_growth_df=norm_biomass_growth_df)\n",
    "imat_per_method(method=\"milp_model\", weights_dict = diff_rxn_weight_dict, \n",
    "               results_path = BASE_PATH / \"results\" / \"diff_expr_models\",\n",
    "               biomass_growth_df = diff_biomass_growth_df)"
   ]
  },
  {
   "cell_type": "markdown",
   "id": "4612dd6e-c044-4173-92d2-61c7b23aff14",
   "metadata": {},
   "source": [
    "### Save Biomass DataFrames"
   ]
  },
  {
   "cell_type": "code",
   "execution_count": null,
   "id": "2c21f9ee-d816-4957-9feb-83028202eaa2",
   "metadata": {},
   "outputs": [],
   "source": [
    "# Basic results\n",
    "biomass_growth_df.to_csv(BASE_PATH / \"results\" / \"expr_models\" / \"biomass_growth.csv\")\n",
    "biomass_growth_df[~(biomass_growth_df.index==\"WT\")].div(biomass_growth_df.loc[\"WT\"], axis=1).to_csv(BASE_PATH / \"results\" / \"expr_models\" / \"biomass_growth_prop.csv\")\n",
    "# Qnorm results\n",
    "norm_biomass_growth_df.to_csv(BASE_PATH / \"results\" / \"norm_expr_models\" / \"norm_biomass_growth.csv\")\n",
    "norm_biomass_growth_df[~(norm_biomass_growth_df.index==\"WT\")].div(norm_biomass_growth_df.loc[\"WT\"], axis=1).to_csv(\n",
    "    BASE_PATH / \"results\" / \"norm_expr_models\" / \"norm_biomass_growth_prop.csv\")\n",
    "# Differential Expression Results\n",
    "diff_biomass_growth_df.to_csv(BASE_PATH / \"results\" / \"diff_expr_models\" / \"diff_biomass_growth.csv\")\n",
    "diff_biomass_growth_df[~(diff_biomass_growth_df.index==\"WT\")].div(diff_biomass_growth_df.loc[\"WT\"], axis=1).to_csv(\n",
    "    BASE_PATH / \"results\" / \"diff_expr_models\" / \"diff_biomass_growth_prop.csv\")"
   ]
  },
  {
   "cell_type": "markdown",
   "id": "08ae791a-3855-4b13-92f6-656a7701383a",
   "metadata": {},
   "source": [
    "## Essentiality Analysis"
   ]
  },
  {
   "cell_type": "code",
   "execution_count": 3,
   "id": "8a3ca9c3-5a38-4e3e-ab7c-0c4df13d1d3a",
   "metadata": {},
   "outputs": [],
   "source": [
    "def essentiality_analysis(model_dir: pathlib.Path, \n",
    "                          cond_list:list[str], \n",
    "                          wt:str,\n",
    "                          out_dir: pathlib.Path)->None: \n",
    "    wt_model = metworkpy.read_model(str(model_dir / f\"iek1011_{wt}_model.json\"))\n",
    "    flux_res_df = pd.DataFrame(np.NaN, \n",
    "                             dtype=\"float\", \n",
    "                             index = wt_model.genes.list_attr(\"id\"),\n",
    "                             columns = [wt]+cond_list\n",
    "                            )\n",
    "    prop_res_df = pd.DataFrame(np.NaN, \n",
    "                             dtype=\"float\", \n",
    "                             index = wt_model.genes.list_attr(\"id\"),\n",
    "                             columns = [wt]+cond_list\n",
    "                            )\n",
    "    ess_res_df = pd.DataFrame(np.NaN, \n",
    "                             dtype=\"float\", \n",
    "                             index = wt_model.genes.list_attr(\"id\"),\n",
    "                             columns = [wt]+cond_list\n",
    "                            )\n",
    "    for cond in [wt]+cond_list:\n",
    "        print(\"\\t-----------------\")\n",
    "        print(f\"\\tCondition: {cond}\")\n",
    "        print(\"\\t-----------------\")\n",
    "        cond_model = metworkpy.read_model(str(model_dir / f\"iek1011_{cond}_model.json\"))\n",
    "        try:\n",
    "            max_obj = cond_model.slim_optimize()\n",
    "            ko_res = single_gene_deletion(cond_model)\n",
    "            ko_res[\"ids\"] = ko_res[\"ids\"].apply(lambda x: next(iter(x)))\n",
    "            ko_res = ko_res.set_index(\"ids\")\n",
    "            flux_res_df.loc[ko_res.index, cond] = ko_res[\"growth\"]\n",
    "            prop_res_df.loc[flux_res_df.index, cond] = flux_res_df.loc[:, cond] / max_obj\n",
    "            ess_res_df.loc[(prop_res_df.loc[:,cond]<=5e-2).index, cond] = 1\n",
    "            ess_res_df.loc[(~(prop_res_df.loc[:,cond]>5e-2)).index, cond] = 0\n",
    "        except Exception as exp:\n",
    "            continue\n",
    "    flux_res_df.to_csv(out_dir / \"ko_flux.csv\")\n",
    "    prop_res_df.to_csv(out_dir / \"ko_prop.csv\")\n",
    "    ess_res_df.to_csv(out_dir / \"ko_essentiality.csv\")        "
   ]
  },
  {
   "cell_type": "code",
   "execution_count": 4,
   "id": "67ea0935-f960-49d2-938d-14cccab4d03c",
   "metadata": {},
   "outputs": [
    {
     "name": "stdout",
     "output_type": "stream",
     "text": [
      "Starting: expr\n",
      "\t-----------------\n",
      "\tCondition: WT\n",
      "\t-----------------\n",
      "\t-----------------\n",
      "\tCondition: PknB_KD\n",
      "\t-----------------\n",
      "\t-----------------\n",
      "\tCondition: PknB_IND\n",
      "\t-----------------\n"
     ]
    },
    {
     "ename": "KeyboardInterrupt",
     "evalue": "",
     "output_type": "error",
     "traceback": [
      "\u001b[0;31m---------------------------------------------------------------------------\u001b[0m",
      "\u001b[0;31mIndexError\u001b[0m                                Traceback (most recent call last)",
      "File \u001b[0;32m~/miniforge3/envs/KiMAT-cplex/lib/python3.10/multiprocessing/pool.py:856\u001b[0m, in \u001b[0;36mIMapIterator.next\u001b[0;34m(self, timeout)\u001b[0m\n\u001b[1;32m    855\u001b[0m \u001b[38;5;28;01mtry\u001b[39;00m:\n\u001b[0;32m--> 856\u001b[0m     item \u001b[38;5;241m=\u001b[39m \u001b[38;5;28;43mself\u001b[39;49m\u001b[38;5;241;43m.\u001b[39;49m\u001b[43m_items\u001b[49m\u001b[38;5;241;43m.\u001b[39;49m\u001b[43mpopleft\u001b[49m\u001b[43m(\u001b[49m\u001b[43m)\u001b[49m\n\u001b[1;32m    857\u001b[0m \u001b[38;5;28;01mexcept\u001b[39;00m \u001b[38;5;167;01mIndexError\u001b[39;00m:\n",
      "\u001b[0;31mIndexError\u001b[0m: pop from an empty deque",
      "\nDuring handling of the above exception, another exception occurred:\n",
      "\u001b[0;31mKeyboardInterrupt\u001b[0m                         Traceback (most recent call last)",
      "Cell \u001b[0;32mIn[4], line 5\u001b[0m\n\u001b[1;32m      3\u001b[0m \u001b[38;5;28mprint\u001b[39m(\u001b[38;5;124mf\u001b[39m\u001b[38;5;124m\"\u001b[39m\u001b[38;5;124mStarting: \u001b[39m\u001b[38;5;132;01m{\u001b[39;00mEXPRESSION_METHOD\u001b[38;5;132;01m}\u001b[39;00m\u001b[38;5;124m\"\u001b[39m)\n\u001b[1;32m      4\u001b[0m \u001b[38;5;28;01mfor\u001b[39;00m method \u001b[38;5;129;01min\u001b[39;00m [\u001b[38;5;124m\"\u001b[39m\u001b[38;5;124msimple_bounds\u001b[39m\u001b[38;5;124m\"\u001b[39m, \u001b[38;5;124m\"\u001b[39m\u001b[38;5;124msubset_model\u001b[39m\u001b[38;5;124m\"\u001b[39m, \u001b[38;5;124m\"\u001b[39m\u001b[38;5;124mfva_model\u001b[39m\u001b[38;5;124m\"\u001b[39m, \u001b[38;5;124m\"\u001b[39m\u001b[38;5;124mmilp_model\u001b[39m\u001b[38;5;124m\"\u001b[39m]:\n\u001b[0;32m----> 5\u001b[0m     \u001b[43messentiality_analysis\u001b[49m\u001b[43m(\u001b[49m\n\u001b[1;32m      6\u001b[0m \u001b[43m        \u001b[49m\u001b[43mmodel_dir\u001b[49m\u001b[43m \u001b[49m\u001b[38;5;241;43m=\u001b[39;49m\u001b[43m \u001b[49m\u001b[43mBASE_PATH\u001b[49m\u001b[43m \u001b[49m\u001b[38;5;241;43m/\u001b[39;49m\u001b[43m \u001b[49m\u001b[38;5;124;43m\"\u001b[39;49m\u001b[38;5;124;43mresults\u001b[39;49m\u001b[38;5;124;43m\"\u001b[39;49m\u001b[43m \u001b[49m\u001b[38;5;241;43m/\u001b[39;49m\u001b[43m \u001b[49m\u001b[38;5;124;43mf\u001b[39;49m\u001b[38;5;124;43m\"\u001b[39;49m\u001b[38;5;132;43;01m{\u001b[39;49;00m\u001b[43mEXPRESSION_METHOD\u001b[49m\u001b[38;5;132;43;01m}\u001b[39;49;00m\u001b[38;5;124;43m_models\u001b[39;49m\u001b[38;5;124;43m\"\u001b[39;49m\u001b[43m \u001b[49m\u001b[38;5;241;43m/\u001b[39;49m\u001b[43m \u001b[49m\u001b[43mmethod\u001b[49m\u001b[43m,\u001b[49m\n\u001b[1;32m      7\u001b[0m \u001b[43m        \u001b[49m\u001b[43mcond_list\u001b[49m\u001b[43m \u001b[49m\u001b[38;5;241;43m=\u001b[39;49m\u001b[43m \u001b[49m\u001b[43m[\u001b[49m\u001b[38;5;124;43m\"\u001b[39;49m\u001b[38;5;124;43mPknB_KD\u001b[39;49m\u001b[38;5;124;43m\"\u001b[39;49m\u001b[43m,\u001b[49m\n\u001b[1;32m      8\u001b[0m \u001b[43m                     \u001b[49m\u001b[38;5;124;43m\"\u001b[39;49m\u001b[38;5;124;43mPknB_IND\u001b[39;49m\u001b[38;5;124;43m\"\u001b[39;49m\u001b[43m,\u001b[49m\n\u001b[1;32m      9\u001b[0m \u001b[43m                     \u001b[49m\u001b[38;5;124;43m\"\u001b[39;49m\u001b[38;5;124;43mPknD_KO\u001b[39;49m\u001b[38;5;124;43m\"\u001b[39;49m\u001b[43m,\u001b[49m\n\u001b[1;32m     10\u001b[0m \u001b[43m                     \u001b[49m\u001b[38;5;124;43m\"\u001b[39;49m\u001b[38;5;124;43mPknD_IND\u001b[39;49m\u001b[38;5;124;43m\"\u001b[39;49m\u001b[43m,\u001b[49m\n\u001b[1;32m     11\u001b[0m \u001b[43m                     \u001b[49m\u001b[38;5;124;43m\"\u001b[39;49m\u001b[38;5;124;43mPknE_KO\u001b[39;49m\u001b[38;5;124;43m\"\u001b[39;49m\u001b[43m,\u001b[49m\n\u001b[1;32m     12\u001b[0m \u001b[43m                     \u001b[49m\u001b[38;5;124;43m\"\u001b[39;49m\u001b[38;5;124;43mPknE_IND\u001b[39;49m\u001b[38;5;124;43m\"\u001b[39;49m\u001b[43m,\u001b[49m\n\u001b[1;32m     13\u001b[0m \u001b[43m                     \u001b[49m\u001b[38;5;124;43m\"\u001b[39;49m\u001b[38;5;124;43mPknF_KO\u001b[39;49m\u001b[38;5;124;43m\"\u001b[39;49m\u001b[43m,\u001b[49m\n\u001b[1;32m     14\u001b[0m \u001b[43m                     \u001b[49m\u001b[38;5;124;43m\"\u001b[39;49m\u001b[38;5;124;43mPknF_IND\u001b[39;49m\u001b[38;5;124;43m\"\u001b[39;49m\u001b[43m,\u001b[49m\n\u001b[1;32m     15\u001b[0m \u001b[43m                     \u001b[49m\u001b[38;5;124;43m\"\u001b[39;49m\u001b[38;5;124;43mPknG_KO\u001b[39;49m\u001b[38;5;124;43m\"\u001b[39;49m\u001b[43m,\u001b[49m\n\u001b[1;32m     16\u001b[0m \u001b[43m                     \u001b[49m\u001b[38;5;124;43m\"\u001b[39;49m\u001b[38;5;124;43mPknG_IND\u001b[39;49m\u001b[38;5;124;43m\"\u001b[39;49m\u001b[43m,\u001b[49m\n\u001b[1;32m     17\u001b[0m \u001b[43m                     \u001b[49m\u001b[38;5;124;43m\"\u001b[39;49m\u001b[38;5;124;43mPknH_KO\u001b[39;49m\u001b[38;5;124;43m\"\u001b[39;49m\u001b[43m,\u001b[49m\n\u001b[1;32m     18\u001b[0m \u001b[43m                     \u001b[49m\u001b[38;5;124;43m\"\u001b[39;49m\u001b[38;5;124;43mPknH_IND\u001b[39;49m\u001b[38;5;124;43m\"\u001b[39;49m\u001b[43m,\u001b[49m\n\u001b[1;32m     19\u001b[0m \u001b[43m                     \u001b[49m\u001b[38;5;124;43m\"\u001b[39;49m\u001b[38;5;124;43mPknJ_KO\u001b[39;49m\u001b[38;5;124;43m\"\u001b[39;49m\u001b[43m,\u001b[49m\n\u001b[1;32m     20\u001b[0m \u001b[43m                     \u001b[49m\u001b[38;5;124;43m\"\u001b[39;49m\u001b[38;5;124;43mPknJ_IND\u001b[39;49m\u001b[38;5;124;43m\"\u001b[39;49m\u001b[43m,\u001b[49m\n\u001b[1;32m     21\u001b[0m \u001b[43m                     \u001b[49m\u001b[38;5;124;43m\"\u001b[39;49m\u001b[38;5;124;43mPknK_KO\u001b[39;49m\u001b[38;5;124;43m\"\u001b[39;49m\u001b[43m,\u001b[49m\n\u001b[1;32m     22\u001b[0m \u001b[43m                     \u001b[49m\u001b[38;5;124;43m\"\u001b[39;49m\u001b[38;5;124;43mPknK_IND\u001b[39;49m\u001b[38;5;124;43m\"\u001b[39;49m\u001b[43m,\u001b[49m\n\u001b[1;32m     23\u001b[0m \u001b[43m                     \u001b[49m\u001b[38;5;124;43m\"\u001b[39;49m\u001b[38;5;124;43mPknL_KO\u001b[39;49m\u001b[38;5;124;43m\"\u001b[39;49m\u001b[43m,\u001b[49m\n\u001b[1;32m     24\u001b[0m \u001b[43m                     \u001b[49m\u001b[38;5;124;43m\"\u001b[39;49m\u001b[38;5;124;43mPknL_IND\u001b[39;49m\u001b[38;5;124;43m\"\u001b[39;49m\u001b[43m,\u001b[49m\u001b[43m]\u001b[49m\u001b[43m,\u001b[49m\n\u001b[1;32m     25\u001b[0m \u001b[43m        \u001b[49m\u001b[43mwt\u001b[49m\u001b[43m \u001b[49m\u001b[38;5;241;43m=\u001b[39;49m\u001b[43m \u001b[49m\u001b[38;5;124;43m\"\u001b[39;49m\u001b[38;5;124;43mWT\u001b[39;49m\u001b[38;5;124;43m\"\u001b[39;49m\u001b[43m,\u001b[49m\n\u001b[1;32m     26\u001b[0m \u001b[43m        \u001b[49m\u001b[43mout_dir\u001b[49m\u001b[43m \u001b[49m\u001b[38;5;241;43m=\u001b[39;49m\u001b[43m \u001b[49m\u001b[43mBASE_PATH\u001b[49m\u001b[43m \u001b[49m\u001b[38;5;241;43m/\u001b[39;49m\u001b[43m \u001b[49m\u001b[38;5;124;43m\"\u001b[39;49m\u001b[38;5;124;43mresults\u001b[39;49m\u001b[38;5;124;43m\"\u001b[39;49m\u001b[43m \u001b[49m\u001b[38;5;241;43m/\u001b[39;49m\u001b[43m \u001b[49m\u001b[38;5;124;43m\"\u001b[39;49m\u001b[38;5;124;43messentiality\u001b[39;49m\u001b[38;5;124;43m\"\u001b[39;49m\u001b[43m \u001b[49m\u001b[38;5;241;43m/\u001b[39;49m\u001b[43m  \u001b[49m\u001b[38;5;124;43mf\u001b[39;49m\u001b[38;5;124;43m\"\u001b[39;49m\u001b[38;5;132;43;01m{\u001b[39;49;00m\u001b[43mEXPRESSION_METHOD\u001b[49m\u001b[38;5;132;43;01m}\u001b[39;49;00m\u001b[38;5;124;43m_essentiality\u001b[39;49m\u001b[38;5;124;43m\"\u001b[39;49m\u001b[43m \u001b[49m\u001b[38;5;241;43m/\u001b[39;49m\u001b[43m \u001b[49m\u001b[43mmethod\u001b[49m\n\u001b[1;32m     27\u001b[0m \u001b[43m       \u001b[49m\u001b[43m)\u001b[49m\n\u001b[1;32m     28\u001b[0m \u001b[38;5;66;03m# Quantile Normalized Expression Essentiality Analysis\u001b[39;00m\n\u001b[1;32m     29\u001b[0m EXPRESSION_METHOD \u001b[38;5;241m=\u001b[39m \u001b[38;5;124m\"\u001b[39m\u001b[38;5;124mnorm_expr\u001b[39m\u001b[38;5;124m\"\u001b[39m\n",
      "Cell \u001b[0;32mIn[3], line 28\u001b[0m, in \u001b[0;36messentiality_analysis\u001b[0;34m(model_dir, cond_list, wt, out_dir)\u001b[0m\n\u001b[1;32m     26\u001b[0m \u001b[38;5;28;01mtry\u001b[39;00m:\n\u001b[1;32m     27\u001b[0m     max_obj \u001b[38;5;241m=\u001b[39m cond_model\u001b[38;5;241m.\u001b[39mslim_optimize()\n\u001b[0;32m---> 28\u001b[0m     ko_res \u001b[38;5;241m=\u001b[39m \u001b[43msingle_gene_deletion\u001b[49m\u001b[43m(\u001b[49m\u001b[43mcond_model\u001b[49m\u001b[43m)\u001b[49m\n\u001b[1;32m     29\u001b[0m     ko_res[\u001b[38;5;124m\"\u001b[39m\u001b[38;5;124mids\u001b[39m\u001b[38;5;124m\"\u001b[39m] \u001b[38;5;241m=\u001b[39m ko_res[\u001b[38;5;124m\"\u001b[39m\u001b[38;5;124mids\u001b[39m\u001b[38;5;124m\"\u001b[39m]\u001b[38;5;241m.\u001b[39mapply(\u001b[38;5;28;01mlambda\u001b[39;00m x: \u001b[38;5;28mnext\u001b[39m(\u001b[38;5;28miter\u001b[39m(x)))\n\u001b[1;32m     30\u001b[0m     ko_res \u001b[38;5;241m=\u001b[39m ko_res\u001b[38;5;241m.\u001b[39mset_index(\u001b[38;5;124m\"\u001b[39m\u001b[38;5;124mids\u001b[39m\u001b[38;5;124m\"\u001b[39m)\n",
      "File \u001b[0;32m~/.local/lib/python3.10/site-packages/cobra/flux_analysis/deletion.py:393\u001b[0m, in \u001b[0;36msingle_gene_deletion\u001b[0;34m(model, gene_list, method, solution, processes, **kwargs)\u001b[0m\n\u001b[1;32m    349\u001b[0m \u001b[38;5;28;01mdef\u001b[39;00m \u001b[38;5;21msingle_gene_deletion\u001b[39m(\n\u001b[1;32m    350\u001b[0m     model: Model,\n\u001b[1;32m    351\u001b[0m     gene_list: Optional[List[Union[Gene, \u001b[38;5;28mstr\u001b[39m]]] \u001b[38;5;241m=\u001b[39m \u001b[38;5;28;01mNone\u001b[39;00m,\n\u001b[0;32m   (...)\u001b[0m\n\u001b[1;32m    355\u001b[0m     \u001b[38;5;241m*\u001b[39m\u001b[38;5;241m*\u001b[39mkwargs,\n\u001b[1;32m    356\u001b[0m ) \u001b[38;5;241m-\u001b[39m\u001b[38;5;241m>\u001b[39m pd\u001b[38;5;241m.\u001b[39mDataFrame:\n\u001b[1;32m    357\u001b[0m \u001b[38;5;250m    \u001b[39m\u001b[38;5;124;03m\"\"\"Knock out each gene from `gene_list`.\u001b[39;00m\n\u001b[1;32m    358\u001b[0m \n\u001b[1;32m    359\u001b[0m \u001b[38;5;124;03m    Parameters\u001b[39;00m\n\u001b[0;32m   (...)\u001b[0m\n\u001b[1;32m    391\u001b[0m \n\u001b[1;32m    392\u001b[0m \u001b[38;5;124;03m    \"\"\"\u001b[39;00m\n\u001b[0;32m--> 393\u001b[0m     \u001b[38;5;28;01mreturn\u001b[39;00m \u001b[43m_multi_deletion\u001b[49m\u001b[43m(\u001b[49m\n\u001b[1;32m    394\u001b[0m \u001b[43m        \u001b[49m\u001b[43mmodel\u001b[49m\u001b[43m,\u001b[49m\n\u001b[1;32m    395\u001b[0m \u001b[43m        \u001b[49m\u001b[38;5;124;43m\"\u001b[39;49m\u001b[38;5;124;43mgene\u001b[39;49m\u001b[38;5;124;43m\"\u001b[39;49m\u001b[43m,\u001b[49m\n\u001b[1;32m    396\u001b[0m \u001b[43m        \u001b[49m\u001b[43melement_lists\u001b[49m\u001b[38;5;241;43m=\u001b[39;49m\u001b[43m_element_lists\u001b[49m\u001b[43m(\u001b[49m\u001b[43mmodel\u001b[49m\u001b[38;5;241;43m.\u001b[39;49m\u001b[43mgenes\u001b[49m\u001b[43m,\u001b[49m\u001b[43m \u001b[49m\u001b[43mgene_list\u001b[49m\u001b[43m)\u001b[49m\u001b[43m,\u001b[49m\n\u001b[1;32m    397\u001b[0m \u001b[43m        \u001b[49m\u001b[43mmethod\u001b[49m\u001b[38;5;241;43m=\u001b[39;49m\u001b[43mmethod\u001b[49m\u001b[43m,\u001b[49m\n\u001b[1;32m    398\u001b[0m \u001b[43m        \u001b[49m\u001b[43msolution\u001b[49m\u001b[38;5;241;43m=\u001b[39;49m\u001b[43msolution\u001b[49m\u001b[43m,\u001b[49m\n\u001b[1;32m    399\u001b[0m \u001b[43m        \u001b[49m\u001b[43mprocesses\u001b[49m\u001b[38;5;241;43m=\u001b[39;49m\u001b[43mprocesses\u001b[49m\u001b[43m,\u001b[49m\n\u001b[1;32m    400\u001b[0m \u001b[43m        \u001b[49m\u001b[38;5;241;43m*\u001b[39;49m\u001b[38;5;241;43m*\u001b[39;49m\u001b[43mkwargs\u001b[49m\u001b[43m,\u001b[49m\n\u001b[1;32m    401\u001b[0m \u001b[43m    \u001b[49m\u001b[43m)\u001b[49m\n",
      "File \u001b[0;32m~/.local/lib/python3.10/site-packages/cobra/flux_analysis/deletion.py:235\u001b[0m, in \u001b[0;36m_multi_deletion\u001b[0;34m(model, entity, element_lists, method, solution, processes, **kwargs)\u001b[0m\n\u001b[1;32m    230\u001b[0m     chunk_size \u001b[38;5;241m=\u001b[39m \u001b[38;5;28mlen\u001b[39m(args) \u001b[38;5;241m/\u001b[39m\u001b[38;5;241m/\u001b[39m processes\n\u001b[1;32m    232\u001b[0m     \u001b[38;5;28;01mwith\u001b[39;00m ProcessPool(\n\u001b[1;32m    233\u001b[0m         processes, initializer\u001b[38;5;241m=\u001b[39m_init_worker, initargs\u001b[38;5;241m=\u001b[39m(model,)\n\u001b[1;32m    234\u001b[0m     ) \u001b[38;5;28;01mas\u001b[39;00m pool:\n\u001b[0;32m--> 235\u001b[0m         results \u001b[38;5;241m=\u001b[39m \u001b[43mextract_knockout_results\u001b[49m\u001b[43m(\u001b[49m\n\u001b[1;32m    236\u001b[0m \u001b[43m            \u001b[49m\u001b[43mpool\u001b[49m\u001b[38;5;241;43m.\u001b[39;49m\u001b[43mimap_unordered\u001b[49m\u001b[43m(\u001b[49m\u001b[43mworker\u001b[49m\u001b[43m,\u001b[49m\u001b[43m \u001b[49m\u001b[43margs\u001b[49m\u001b[43m,\u001b[49m\u001b[43m \u001b[49m\u001b[43mchunksize\u001b[49m\u001b[38;5;241;43m=\u001b[39;49m\u001b[43mchunk_size\u001b[49m\u001b[43m)\u001b[49m\n\u001b[1;32m    237\u001b[0m \u001b[43m        \u001b[49m\u001b[43m)\u001b[49m\n\u001b[1;32m    238\u001b[0m \u001b[38;5;28;01melse\u001b[39;00m:\n\u001b[1;32m    239\u001b[0m     worker \u001b[38;5;241m=\u001b[39m {\u001b[38;5;124m\"\u001b[39m\u001b[38;5;124mgene\u001b[39m\u001b[38;5;124m\"\u001b[39m: _gene_deletion, \u001b[38;5;124m\"\u001b[39m\u001b[38;5;124mreaction\u001b[39m\u001b[38;5;124m\"\u001b[39m: _reaction_deletion}[entity]\n",
      "File \u001b[0;32m~/.local/lib/python3.10/site-packages/cobra/flux_analysis/deletion.py:213\u001b[0m, in \u001b[0;36m_multi_deletion.<locals>.extract_knockout_results\u001b[0;34m(result_iter)\u001b[0m\n\u001b[1;32m    211\u001b[0m \u001b[38;5;28;01mdef\u001b[39;00m \u001b[38;5;21mextract_knockout_results\u001b[39m(result_iter):\n\u001b[1;32m    212\u001b[0m     result \u001b[38;5;241m=\u001b[39m pd\u001b[38;5;241m.\u001b[39mDataFrame(\n\u001b[0;32m--> 213\u001b[0m         [\n\u001b[1;32m    214\u001b[0m             (\n\u001b[1;32m    215\u001b[0m                 \u001b[38;5;28mset\u001b[39m(ids),\n\u001b[1;32m    216\u001b[0m                 growth,\n\u001b[1;32m    217\u001b[0m                 status,\n\u001b[1;32m    218\u001b[0m             )\n\u001b[1;32m    219\u001b[0m             \u001b[38;5;28;01mfor\u001b[39;00m (ids, growth, status) \u001b[38;5;129;01min\u001b[39;00m result_iter\n\u001b[1;32m    220\u001b[0m         ],\n\u001b[1;32m    221\u001b[0m         columns\u001b[38;5;241m=\u001b[39m[\u001b[38;5;124m\"\u001b[39m\u001b[38;5;124mids\u001b[39m\u001b[38;5;124m\"\u001b[39m, \u001b[38;5;124m\"\u001b[39m\u001b[38;5;124mgrowth\u001b[39m\u001b[38;5;124m\"\u001b[39m, \u001b[38;5;124m\"\u001b[39m\u001b[38;5;124mstatus\u001b[39m\u001b[38;5;124m\"\u001b[39m],\n\u001b[1;32m    222\u001b[0m     )\n\u001b[1;32m    223\u001b[0m     \u001b[38;5;28;01mreturn\u001b[39;00m result\n",
      "File \u001b[0;32m~/.local/lib/python3.10/site-packages/cobra/flux_analysis/deletion.py:213\u001b[0m, in \u001b[0;36m<listcomp>\u001b[0;34m(.0)\u001b[0m\n\u001b[1;32m    211\u001b[0m \u001b[38;5;28;01mdef\u001b[39;00m \u001b[38;5;21mextract_knockout_results\u001b[39m(result_iter):\n\u001b[1;32m    212\u001b[0m     result \u001b[38;5;241m=\u001b[39m pd\u001b[38;5;241m.\u001b[39mDataFrame(\n\u001b[0;32m--> 213\u001b[0m         [\n\u001b[1;32m    214\u001b[0m             (\n\u001b[1;32m    215\u001b[0m                 \u001b[38;5;28mset\u001b[39m(ids),\n\u001b[1;32m    216\u001b[0m                 growth,\n\u001b[1;32m    217\u001b[0m                 status,\n\u001b[1;32m    218\u001b[0m             )\n\u001b[1;32m    219\u001b[0m             \u001b[38;5;28;01mfor\u001b[39;00m (ids, growth, status) \u001b[38;5;129;01min\u001b[39;00m result_iter\n\u001b[1;32m    220\u001b[0m         ],\n\u001b[1;32m    221\u001b[0m         columns\u001b[38;5;241m=\u001b[39m[\u001b[38;5;124m\"\u001b[39m\u001b[38;5;124mids\u001b[39m\u001b[38;5;124m\"\u001b[39m, \u001b[38;5;124m\"\u001b[39m\u001b[38;5;124mgrowth\u001b[39m\u001b[38;5;124m\"\u001b[39m, \u001b[38;5;124m\"\u001b[39m\u001b[38;5;124mstatus\u001b[39m\u001b[38;5;124m\"\u001b[39m],\n\u001b[1;32m    222\u001b[0m     )\n\u001b[1;32m    223\u001b[0m     \u001b[38;5;28;01mreturn\u001b[39;00m result\n",
      "File \u001b[0;32m~/miniforge3/envs/KiMAT-cplex/lib/python3.10/multiprocessing/pool.py:451\u001b[0m, in \u001b[0;36m<genexpr>\u001b[0;34m(.0)\u001b[0m\n\u001b[1;32m    443\u001b[0m result \u001b[38;5;241m=\u001b[39m IMapUnorderedIterator(\u001b[38;5;28mself\u001b[39m)\n\u001b[1;32m    444\u001b[0m \u001b[38;5;28mself\u001b[39m\u001b[38;5;241m.\u001b[39m_taskqueue\u001b[38;5;241m.\u001b[39mput(\n\u001b[1;32m    445\u001b[0m     (\n\u001b[1;32m    446\u001b[0m         \u001b[38;5;28mself\u001b[39m\u001b[38;5;241m.\u001b[39m_guarded_task_generation(result\u001b[38;5;241m.\u001b[39m_job,\n\u001b[0;32m   (...)\u001b[0m\n\u001b[1;32m    449\u001b[0m         result\u001b[38;5;241m.\u001b[39m_set_length\n\u001b[1;32m    450\u001b[0m     ))\n\u001b[0;32m--> 451\u001b[0m \u001b[38;5;28;01mreturn\u001b[39;00m (item \u001b[38;5;28;01mfor\u001b[39;00m chunk \u001b[38;5;129;01min\u001b[39;00m result \u001b[38;5;28;01mfor\u001b[39;00m item \u001b[38;5;129;01min\u001b[39;00m chunk)\n",
      "File \u001b[0;32m~/miniforge3/envs/KiMAT-cplex/lib/python3.10/multiprocessing/pool.py:861\u001b[0m, in \u001b[0;36mIMapIterator.next\u001b[0;34m(self, timeout)\u001b[0m\n\u001b[1;32m    859\u001b[0m     \u001b[38;5;28mself\u001b[39m\u001b[38;5;241m.\u001b[39m_pool \u001b[38;5;241m=\u001b[39m \u001b[38;5;28;01mNone\u001b[39;00m\n\u001b[1;32m    860\u001b[0m     \u001b[38;5;28;01mraise\u001b[39;00m \u001b[38;5;167;01mStopIteration\u001b[39;00m \u001b[38;5;28;01mfrom\u001b[39;00m \u001b[38;5;28;01mNone\u001b[39;00m\n\u001b[0;32m--> 861\u001b[0m \u001b[38;5;28;43mself\u001b[39;49m\u001b[38;5;241;43m.\u001b[39;49m\u001b[43m_cond\u001b[49m\u001b[38;5;241;43m.\u001b[39;49m\u001b[43mwait\u001b[49m\u001b[43m(\u001b[49m\u001b[43mtimeout\u001b[49m\u001b[43m)\u001b[49m\n\u001b[1;32m    862\u001b[0m \u001b[38;5;28;01mtry\u001b[39;00m:\n\u001b[1;32m    863\u001b[0m     item \u001b[38;5;241m=\u001b[39m \u001b[38;5;28mself\u001b[39m\u001b[38;5;241m.\u001b[39m_items\u001b[38;5;241m.\u001b[39mpopleft()\n",
      "File \u001b[0;32m~/miniforge3/envs/KiMAT-cplex/lib/python3.10/threading.py:320\u001b[0m, in \u001b[0;36mCondition.wait\u001b[0;34m(self, timeout)\u001b[0m\n\u001b[1;32m    318\u001b[0m \u001b[38;5;28;01mtry\u001b[39;00m:    \u001b[38;5;66;03m# restore state no matter what (e.g., KeyboardInterrupt)\u001b[39;00m\n\u001b[1;32m    319\u001b[0m     \u001b[38;5;28;01mif\u001b[39;00m timeout \u001b[38;5;129;01mis\u001b[39;00m \u001b[38;5;28;01mNone\u001b[39;00m:\n\u001b[0;32m--> 320\u001b[0m         \u001b[43mwaiter\u001b[49m\u001b[38;5;241;43m.\u001b[39;49m\u001b[43macquire\u001b[49m\u001b[43m(\u001b[49m\u001b[43m)\u001b[49m\n\u001b[1;32m    321\u001b[0m         gotit \u001b[38;5;241m=\u001b[39m \u001b[38;5;28;01mTrue\u001b[39;00m\n\u001b[1;32m    322\u001b[0m     \u001b[38;5;28;01melse\u001b[39;00m:\n",
      "\u001b[0;31mKeyboardInterrupt\u001b[0m: "
     ]
    }
   ],
   "source": [
    "# Normal Expression Essentiality Analysis\n",
    "EXPRESSION_METHOD = \"expr\"\n",
    "print(f\"Starting: {EXPRESSION_METHOD}\")\n",
    "for method in [\"simple_bounds\", \"subset_model\", \"fva_model\", \"milp_model\"]:\n",
    "    essentiality_analysis(\n",
    "        model_dir = BASE_PATH / \"results\" / f\"{EXPRESSION_METHOD}_models\" / method,\n",
    "        cond_list = [\"PknB_KD\",\n",
    "                     \"PknB_IND\",\n",
    "                     \"PknD_KO\",\n",
    "                     \"PknD_IND\",\n",
    "                     \"PknE_KO\",\n",
    "                     \"PknE_IND\",\n",
    "                     \"PknF_KO\",\n",
    "                     \"PknF_IND\",\n",
    "                     \"PknG_KO\",\n",
    "                     \"PknG_IND\",\n",
    "                     \"PknH_KO\",\n",
    "                     \"PknH_IND\",\n",
    "                     \"PknJ_KO\",\n",
    "                     \"PknJ_IND\",\n",
    "                     \"PknK_KO\",\n",
    "                     \"PknK_IND\",\n",
    "                     \"PknL_KO\",\n",
    "                     \"PknL_IND\",],\n",
    "        wt = \"WT\",\n",
    "        out_dir = BASE_PATH / \"results\" / \"essentiality\" /  f\"{EXPRESSION_METHOD}_essentiality\" / method\n",
    "       )\n",
    "# Quantile Normalized Expression Essentiality Analysis\n",
    "EXPRESSION_METHOD = \"norm_expr\"\n",
    "print(f\"Starting: {EXPRESSION_METHOD}\")\n",
    "for method in [\"simple_bounds\", \"subset_model\", \"fva_model\", \"milp_model\"]:\n",
    "    essentiality_analysis(\n",
    "        model_dir = BASE_PATH / \"results\" / f\"{EXPRESSION_METHOD}_models\" / method,\n",
    "        cond_list = [\"PknB_KD\",\n",
    "                     \"PknB_IND\",\n",
    "                     \"PknD_KO\",\n",
    "                     \"PknD_IND\",\n",
    "                     \"PknE_KO\",\n",
    "                     \"PknE_IND\",\n",
    "                     \"PknF_KO\",\n",
    "                     \"PknF_IND\",\n",
    "                     \"PknG_KO\",\n",
    "                     \"PknG_IND\",\n",
    "                     \"PknH_KO\",\n",
    "                     \"PknH_IND\",\n",
    "                     \"PknJ_KO\",\n",
    "                     \"PknJ_IND\",\n",
    "                     \"PknK_KO\",\n",
    "                     \"PknK_IND\",\n",
    "                     \"PknL_KO\",\n",
    "                     \"PknL_IND\",],\n",
    "        wt = \"WT\",\n",
    "        out_dir = BASE_PATH / \"results\" / \"essentiality\" /  f\"{EXPRESSION_METHOD}_essentiality\" / method\n",
    "       )\n",
    "# Differential Expression Essentiality Analysis\n",
    "EXPRESSION_METHOD = \"diff_expr\"\n",
    "print(f\"Starting: {EXPRESSION_METHOD}\")\n",
    "for method in [\"simple_bounds\", \"subset_model\", \"fva_model\", \"milp_model\"]:\n",
    "    essentiality_analysis(\n",
    "        model_dir = BASE_PATH / \"results\" / f\"{EXPRESSION_METHOD}_models\" / method,\n",
    "        cond_list = [\"PknB_KD\",\n",
    "                     \"PknB_IND\",\n",
    "                     \"PknD_KO\",\n",
    "                     \"PknD_IND\",\n",
    "                     \"PknE_KO\",\n",
    "                     \"PknE_IND\",\n",
    "                     \"PknF_KO\",\n",
    "                     \"PknF_IND\",\n",
    "                     \"PknG_KO\",\n",
    "                     \"PknG_IND\",\n",
    "                     \"PknH_KO\",\n",
    "                     \"PknH_IND\",\n",
    "                     \"PknJ_KO\",\n",
    "                     \"PknJ_IND\",\n",
    "                     \"PknK_KO\",\n",
    "                     \"PknK_IND\",\n",
    "                     \"PknL_KO\",\n",
    "                     \"PknL_IND\",],\n",
    "        wt = \"WT\",\n",
    "        out_dir = BASE_PATH / \"results\" / \"essentiality\" /  f\"{EXPRESSION_METHOD}_essentiality\" / method\n",
    "       )"
   ]
  },
  {
   "cell_type": "code",
   "execution_count": null,
   "id": "51bc129c-68b8-4ade-a163-1fdce4d3bb11",
   "metadata": {},
   "outputs": [],
   "source": []
  }
 ],
 "metadata": {
  "kernelspec": {
   "display_name": "Python 3 (ipykernel)",
   "language": "python",
   "name": "python3"
  },
  "language_info": {
   "codemirror_mode": {
    "name": "ipython",
    "version": 3
   },
   "file_extension": ".py",
   "mimetype": "text/x-python",
   "name": "python",
   "nbconvert_exporter": "python",
   "pygments_lexer": "ipython3",
   "version": "3.10.14"
  }
 },
 "nbformat": 4,
 "nbformat_minor": 5
}
