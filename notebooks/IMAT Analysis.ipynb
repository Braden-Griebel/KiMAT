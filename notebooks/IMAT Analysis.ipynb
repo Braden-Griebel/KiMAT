{
 "cells": [
  {
   "cell_type": "markdown",
   "id": "a5256619-cb81-46d5-ac8e-ac89b3384c15",
   "metadata": {},
   "source": [
    "# Kinase IMAT Modeling"
   ]
  },
  {
   "cell_type": "markdown",
   "id": "82066e02-edbc-45a6-ba4b-001eaddf4aa2",
   "metadata": {},
   "source": [
    "This notebook explores the impact that Serine-Threonine protein kinases have on *Mycobacterium tuberculosis* metabolism by integration of gene expression data with Genome Scale Metabolic Models (GSMM). This is done through use of the IMAT algorithm, described by [Shlomi et al., 2008](https://www.nature.com/articles/nbt.1487). This algorithm attempts to find an optimal trade off between having high flux through high expression reactions, and low flux through low expression reactions in order to determine a flux state which matches provided gene expression data. This flux state can then be used to generate a condition specific model used for futher analysis and modeling. "
   ]
  },
  {
   "cell_type": "markdown",
   "id": "3e615987-2156-4f09-bfb0-e186ce697151",
   "metadata": {},
   "source": [
    "## IMAT Algorithm"
   ]
  },
  {
   "cell_type": "markdown",
   "id": "fd928cec-8288-4c66-8cfc-9ccbbdd4c12d",
   "metadata": {},
   "source": [
    "The IMAT algorithm:\n",
    "1. Categorizes gene expression into low expression, high expression, and inbetween (normally expressed as -1, 1, and 0 respectively)\n",
    "2. Adds binary indicator variables ($y_i^+$ and $y_i^-$) to the metabolic model to represent whether a reaction with a high expression value, has a flux above a cutoff ($\\epsilon$) in the forward or reverse direction (+ for forward, - for reverse)\n",
    "3. Adds binary indicator variables ($y_i^+$) to the metabolic model to represent whether a reaction with a low expression value, has a flux below a cutoff ($\\epsilon$)\n",
    "4. Maximizes the sum of high expression reactions active in either direction, plus the sum of low expression reactions that are inactive\n",
    "\n",
    "This can be expressed as:  \n",
    "\n",
    "$max_{v,y^+,y^-}(\\sum_{i \\in R_H} (y_i^+ + y_i^-) + \\sum_{i \\in R_L}y_i^+) $  \n",
    "  \n",
    "Such That  \n",
    "\n",
    "  \n",
    "$S \\cdot v =0 $    \n",
    "\n",
    "$v_{min}\\leq v \\leq v_{max}$    \n",
    "\n",
    "$v_i + y_i^+(v_{min,i}-\\epsilon) \\geq v_{min,i}; i\\in R_H$  \n",
    "\n",
    "$v_i + y_i^-(v_{max,i}+\\epsilon) \\leq v_{max,i}; i \\in R_H$  \n",
    "\n",
    "$v_{min,i}(1-y_i^+) \\leq v_i \\leq v_{max,i}(1-y_i^+);i \\in R_L$  \n",
    "\n",
    "$v \\in R^m$    \n",
    "\n",
    "$y_i^+, y_i^- \\in [0,1]$"
   ]
  },
  {
   "cell_type": "markdown",
   "id": "bca7bc30-5787-448c-aa92-5f9763034860",
   "metadata": {},
   "source": [
    "## Imports"
   ]
  },
  {
   "cell_type": "code",
   "id": "0f58c473-49f0-49a6-b16e-1b891b7476b1",
   "metadata": {
    "ExecuteTime": {
     "end_time": "2024-04-10T17:54:22.907952Z",
     "start_time": "2024-04-10T17:54:20.798447Z"
    }
   },
   "source": [
    "# Standard Library imports\n",
    "import pathlib\n",
    "\n",
    "# External Imports\n",
    "import metworkpy\n",
    "import numpy as np\n",
    "import pandas as pd\n",
    "\n",
    "# Local Imports"
   ],
   "outputs": [],
   "execution_count": 1
  },
  {
   "cell_type": "markdown",
   "id": "9917be60-4109-4117-88fd-591032350ac3",
   "metadata": {},
   "source": [
    "## Data Preprocessing"
   ]
  },
  {
   "cell_type": "markdown",
   "id": "5618def8-b8a6-4f50-a7ac-45d7c38b1def",
   "metadata": {},
   "source": [
    "The first step is to read in the expression data, and convert it into trinarized reaction information."
   ]
  },
  {
   "cell_type": "markdown",
   "id": "0fee3780-b76f-41e3-af0c-4fc1cc6c759f",
   "metadata": {},
   "source": [
    "### Read in Expression Data"
   ]
  },
  {
   "cell_type": "code",
   "id": "7d4a5d15-9920-42eb-bdf7-833e27a2cf28",
   "metadata": {
    "ExecuteTime": {
     "end_time": "2024-04-10T17:54:23.095604Z",
     "start_time": "2024-04-10T17:54:22.909308Z"
    }
   },
   "source": [
    "gene_expression = pd.read_csv(pathlib.Path('..') / 'data' / 'gene-expression' / 'kinase_RNA_seq.csv', index_col=0).drop( \"GrowthPhase\", axis=1)\n",
    "# Convert the RPKM measurements into TPM\n",
    "gene_expression = metworkpy.utils.rpkm_to_tpm(gene_expression)"
   ],
   "outputs": [],
   "execution_count": 2
  },
  {
   "cell_type": "code",
   "source": [
    "# Separate the expression data into biological replicates\n",
    "condition_dict = {\n",
    "    \"WT\":None,\n",
    "    \"PknB_KD\":None,\n",
    "    \"PknB_IND\":None,\n",
    "    \"PknD_KO\":None,\n",
    "    \"PknD_IND\":None,\n",
    "    \"PknE_KO\":None,\n",
    "    \"PknE_IND\":None,\n",
    "    \"PknF_KO\":None,\n",
    "    \"PknF_IND\":None,\n",
    "    \"PknG_KO\":None,\n",
    "    \"PknG_IND\":None,\n",
    "    \"PknH_KO\":None,\n",
    "    \"PknH_IND\":None,\n",
    "    \"PknJ_KO\":None,\n",
    "    \"PknJ_IND\":None,\n",
    "    \"PknK_KO\":None,\n",
    "    \"PknK_IND\":None,\n",
    "    \"PknL_KO\":None,\n",
    "    \"PknL_IND\":None,\n",
    "}\n",
    "for condition in condition_dict:\n",
    "    condition_dict[condition] = gene_expression.loc[gene_expression.index.str.startswith(condition)]"
   ],
   "metadata": {
    "collapsed": false,
    "ExecuteTime": {
     "end_time": "2024-04-10T17:54:23.115926Z",
     "start_time": "2024-04-10T17:54:23.096924Z"
    }
   },
   "id": "a5ed302f1c122d0b",
   "outputs": [],
   "execution_count": 3
  },
  {
   "cell_type": "markdown",
   "id": "19b0b542-77bb-472d-837f-95d3a3a1c131",
   "metadata": {},
   "source": [
    "### Convert Gene Expression into Trinarized Reactions\n",
    "Use the Gene-Protein-Reaction rules from the genome scale metabolic model to convert the gene expression data into trinarized reaction data."
   ]
  },
  {
   "cell_type": "code",
   "id": "cbdde3ed-5d58-45a3-a5b5-e48cecedb5ce",
   "metadata": {
    "ExecuteTime": {
     "end_time": "2024-04-10T17:54:28.739280Z",
     "start_time": "2024-04-10T17:54:23.121670Z"
    }
   },
   "source": [
    "# Convert gene expression into qualitative weights\n",
    "for condition in condition_dict:\n",
    "    condition_dict[condition] = metworkpy.utils.expr_to_weights(condition_dict[condition], quantile = 0.15, \n",
    "                                                                aggregator=np.median, sample_axis=0)"
   ],
   "outputs": [],
   "execution_count": 4
  },
  {
   "cell_type": "code",
   "source": [
    "# Convert qualitative weights into trinarized reactions\n",
    "\n",
    "# Load the iEK1011 model\n",
    "iek1011 = metworkpy.read_model(pathlib.Path('..') / 'data' / 'Models' / 'iEK1011_m7H10_media.json')\n",
    "\n",
    "# Convert the gene expression data into trinarized reaction data\n",
    "# WARNING: This step may take a while, it is not implemented very efficiently currently\n",
    "for condition in condition_dict:\n",
    "    p = pathlib.Path('..') / 'cache' / f'{condition}_rxn_weights.json'\n",
    "    if p.exists():\n",
    "        condition_dict[condition] = pd.read_json(p, typ = \"series\")\n",
    "    else:\n",
    "        condition_dict[condition] = metworkpy.parse.gene_to_rxn_weights(iek1011, condition_dict[condition])\n",
    "        condition_dict[condition].to_json(p)"
   ],
   "metadata": {
    "collapsed": false,
    "ExecuteTime": {
     "end_time": "2024-04-10T17:54:29.409787Z",
     "start_time": "2024-04-10T17:54:28.740367Z"
    }
   },
   "id": "9ccbfa5096c47270",
   "outputs": [],
   "execution_count": 5
  },
  {
   "cell_type": "markdown",
   "id": "a52ceb3c-6e2b-470d-b413-dbfc017b3a8f",
   "metadata": {},
   "source": [
    "## IMAT\n",
    "Now that the data has been processed, IMAT can be used to generate condition specific models in several ways. "
   ]
  },
  {
   "metadata": {},
   "cell_type": "markdown",
   "source": "First, we can create a dataframe to hold the biomass growth for all methods across all conditions",
   "id": "434ef9098c15bb1e"
  },
  {
   "metadata": {
    "ExecuteTime": {
     "end_time": "2024-04-10T17:54:29.414116Z",
     "start_time": "2024-04-10T17:54:29.410681Z"
    }
   },
   "cell_type": "code",
   "source": "biomass_growth_df = pd.DataFrame(0., index = condition_dict.keys(), columns=[\"simple_bounds\", \"subset_model\", \"fva_model\", \"milp_model\"])",
   "id": "b31f803985bdaf69",
   "outputs": [],
   "execution_count": 6
  },
  {
   "metadata": {},
   "cell_type": "markdown",
   "source": "**WARNING**: This section takes a *very* long time to run! ",
   "id": "216bd0042b3fed69"
  },
  {
   "metadata": {},
   "cell_type": "markdown",
   "source": "### Simple Bounds",
   "id": "a641d3b74ba73091"
  },
  {
   "metadata": {
    "jupyter": {
     "is_executing": true
    },
    "ExecuteTime": {
     "start_time": "2024-04-10T17:54:29.415537Z"
    }
   },
   "cell_type": "code",
   "source": [
    "METHOD = \"simple_bounds\"\n",
    "model_dict = dict()\n",
    "\n",
    "for condition in condition_dict:\n",
    "    p = pathlib.Path('..') / 'results' /  METHOD / f'iek1011_{condition}_model.json'\n",
    "    if p.exists():\n",
    "        model_dict[condition] = metworkpy.read_model(str(p))\n",
    "    else:\n",
    "        model_dict[condition] = metworkpy.imat.generate_model(model=iek1011.copy(), rxn_weights=condition_dict[condition], method=METHOD)\n",
    "        metworkpy.write_model(model_dict[condition], model_path=p)   \n",
    "    biomass_growth_df.loc[condition, METHOD] = model_dict[condition].slim_optimize()"
   ],
   "id": "aabb75729cb9fd41",
   "outputs": [],
   "execution_count": null
  },
  {
   "metadata": {},
   "cell_type": "markdown",
   "source": "### Subset Model",
   "id": "7d3c9d957bb47d65"
  },
  {
   "metadata": {
    "jupyter": {
     "is_executing": true
    }
   },
   "cell_type": "code",
   "source": [
    "METHOD = \"subset_model\"\n",
    "model_dict = dict()\n",
    "\n",
    "for condition in condition_dict:\n",
    "    p = pathlib.Path('..') / 'results' /  METHOD / f'iek1011_{condition}_model.json'\n",
    "    if p.exists():\n",
    "        model_dict[condition] = metworkpy.read_model(str(p))\n",
    "    else:\n",
    "        model_dict[condition] = metworkpy.imat.generate_model(model=iek1011.copy(), rxn_weights=condition_dict[condition], method=METHOD)\n",
    "        metworkpy.write_model(model_dict[condition], model_path=p)\n",
    "    biomass_growth_df.loc[condition, METHOD] = model_dict[condition].slim_optimize()"
   ],
   "id": "a2eec575480e4dfe",
   "outputs": [],
   "execution_count": null
  },
  {
   "metadata": {},
   "cell_type": "markdown",
   "source": "### FVA Model",
   "id": "2ad9013b520d7175"
  },
  {
   "metadata": {
    "jupyter": {
     "is_executing": true
    }
   },
   "cell_type": "code",
   "source": [
    "METHOD = \"fva_model\"\n",
    "model_dict = dict()\n",
    "\n",
    "for condition in condition_dict:\n",
    "    p = pathlib.Path('..') / 'results' /  METHOD / f'iek1011_{condition}_model.json'\n",
    "    if p.exists():\n",
    "        model_dict[condition] = metworkpy.read_model(str(p))\n",
    "    else:\n",
    "        model_dict[condition] = metworkpy.imat.generate_model(model=iek1011.copy(), rxn_weights=condition_dict[condition], method=METHOD)\n",
    "        metworkpy.write_model(model_dict[condition], model_path=p)\n",
    "    biomass_growth_df.loc[condition, METHOD] = model_dict[condition].slim_optimize()"
   ],
   "id": "acb678b30ab9c628",
   "outputs": [],
   "execution_count": null
  },
  {
   "metadata": {},
   "cell_type": "markdown",
   "source": "### MILP Model",
   "id": "6e49293008f98e5b"
  },
  {
   "metadata": {
    "jupyter": {
     "is_executing": true
    }
   },
   "cell_type": "code",
   "source": [
    "METHOD = \"milp_model\"\n",
    "model_dict = dict()\n",
    "\n",
    "for condition in condition_dict:\n",
    "    p = pathlib.Path('..') / 'results' /  METHOD / f'iek1011_{condition}_model.json'\n",
    "    if p.exists():\n",
    "        model_dict[condition] = metworkpy.read_model(str(p))\n",
    "    else:\n",
    "        model_dict[condition] = metworkpy.imat.generate_model(model=iek1011.copy(), rxn_weights=condition_dict[condition], method=METHOD)\n",
    "        metworkpy.write_model(model_dict[condition], model_path=p)\n",
    "    biomass_growth_df.loc[condition, METHOD] = model_dict[condition].slim_optimize()"
   ],
   "id": "f71d08206b66209e",
   "outputs": [],
   "execution_count": null
  },
  {
   "metadata": {},
   "cell_type": "markdown",
   "source": "### Biomass Results",
   "id": "8f3ab7f8cf036899"
  },
  {
   "metadata": {
    "jupyter": {
     "is_executing": true
    }
   },
   "cell_type": "code",
   "source": [
    "base_path = pathlib.Path(\"..\") / \"results\"\n",
    "biomass_growth_df.sort_index().to_csv(base_path / \"biomass_raw.csv\")\n",
    "\n",
    "biomass_prop = biomass_growth_df.drop(\"WT\", axis=0) / biomass_growth_df.loc[\"WT\"]\n",
    "biomass_prop.sort_index().to_csv(base_path / \"biomass_proportion.csv\")"
   ],
   "id": "7aad9d2f0a980a1f",
   "outputs": [],
   "execution_count": null
  }
 ],
 "metadata": {
  "kernelspec": {
   "display_name": "Python 3 (ipykernel)",
   "language": "python",
   "name": "python3"
  },
  "language_info": {
   "codemirror_mode": {
    "name": "ipython",
    "version": 3
   },
   "file_extension": ".py",
   "mimetype": "text/x-python",
   "name": "python",
   "nbconvert_exporter": "python",
   "pygments_lexer": "ipython3",
   "version": "3.11.8"
  }
 },
 "nbformat": 4,
 "nbformat_minor": 5
}
