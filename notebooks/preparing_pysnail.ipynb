{
 "cells": [
  {
   "cell_type": "code",
   "execution_count": 20,
   "id": "f02991c8-6e3d-4a01-a5af-e69568ac942d",
   "metadata": {},
   "outputs": [],
   "source": [
    "# Standard Library imports\n",
    "import pathlib\n",
    "\n",
    "# External Imports\n",
    "import cobra\n",
    "import metworkpy\n",
    "import numpy as np\n",
    "import pandas as pd\n",
    "\n",
    "# Local Imports"
   ]
  },
  {
   "cell_type": "code",
   "execution_count": 21,
   "id": "a76f6024-0386-40d7-b8f0-4c8a413a85eb",
   "metadata": {},
   "outputs": [],
   "source": [
    "cobra.Configuration.solver = \"gurobi\"\n",
    "BASE_PATH = pathlib.Path(\"..\")"
   ]
  },
  {
   "cell_type": "code",
   "execution_count": 22,
   "id": "22b4e265-4e6d-4ff7-968f-dcd2791f6c92",
   "metadata": {},
   "outputs": [],
   "source": [
    "gene_expression = pd.read_csv(BASE_PATH / 'data' / 'gene-expression' / 'kinase_RNA_seq.csv', index_col=0).drop( \"GrowthPhase\", axis=1)\n",
    "# Convert the RPKM measurements into TPM\n",
    "gene_expression = metworkpy.utils.rpkm_to_tpm(gene_expression)"
   ]
  },
  {
   "cell_type": "code",
   "execution_count": 23,
   "id": "8dec58ff-a602-463c-bf05-c0d76a1b2c2b",
   "metadata": {},
   "outputs": [],
   "source": [
    "# Prepare group information\n",
    "group_df = pd.DataFrame(gene_expression.index)\n",
    "group_df[\"group\"] = group_df[\"SampleID\"].str.extract(r\"([A-Za-z_]+)(?=\\d+$)\")\n",
    "group_df.to_csv(\"../data/pysnail_prepped/groups.tsv\", sep=\"\\t\", header=None, index=None)"
   ]
  },
  {
   "cell_type": "code",
   "execution_count": 24,
   "id": "dbfa1704-6457-4453-ac2f-34d39b173c13",
   "metadata": {},
   "outputs": [],
   "source": [
    "# Prepare expression data\n",
    "gene_expression = gene_expression.transpose()\n",
    "gene_expression.to_csv(\"../data/pysnail_prepped/expression_tpm.tsv\", sep=\"\\t\")"
   ]
  }
 ],
 "metadata": {
  "kernelspec": {
   "display_name": "Python 3 (ipykernel)",
   "language": "python",
   "name": "python3"
  },
  "language_info": {
   "codemirror_mode": {
    "name": "ipython",
    "version": 3
   },
   "file_extension": ".py",
   "mimetype": "text/x-python",
   "name": "python",
   "nbconvert_exporter": "python",
   "pygments_lexer": "ipython3",
   "version": "3.10.14"
  }
 },
 "nbformat": 4,
 "nbformat_minor": 5
}
