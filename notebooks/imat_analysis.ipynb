{
 "cells": [
  {
   "cell_type": "markdown",
   "id": "a5256619-cb81-46d5-ac8e-ac89b3384c15",
   "metadata": {},
   "source": [
    "# Kinase IMAT Modeling"
   ]
  },
  {
   "cell_type": "markdown",
   "id": "82066e02-edbc-45a6-ba4b-001eaddf4aa2",
   "metadata": {},
   "source": [
    "This notebook explores the impact that Serine-Threonine protein kinases have on *Mycobacterium tuberculosis* metabolism by integration of gene expression data with Genome Scale Metabolic Models (GSMM). This is done through use of the IMAT algorithm, described by [Shlomi et al., 2008](https://www.nature.com/articles/nbt.1487). This algorithm attempts to find an optimal trade off between having high flux through high expression reactions, and low flux through low expression reactions in order to determine a flux state which matches provided gene expression data. This flux state can then be used to generate a condition specific model used for futher analysis and modeling. "
   ]
  },
  {
   "cell_type": "markdown",
   "id": "3e615987-2156-4f09-bfb0-e186ce697151",
   "metadata": {},
   "source": [
    "## IMAT Algorithm"
   ]
  },
  {
   "cell_type": "markdown",
   "id": "fd928cec-8288-4c66-8cfc-9ccbbdd4c12d",
   "metadata": {},
   "source": [
    "The IMAT algorithm:\n",
    "1. Categorizes gene expression into low expression, high expression, and inbetween (normally expressed as -1, 1, and 0 respectively)\n",
    "2. Adds binary indicator variables ($y_i^+$ and $y_i^-$) to the metabolic model to represent whether a reaction with a high expression value, has a flux above a cutoff ($\\epsilon$) in the forward or reverse direction (+ for forward, - for reverse)\n",
    "3. Adds binary indicator variables ($y_i^+$) to the metabolic model to represent whether a reaction with a low expression value, has a flux below a cutoff ($\\epsilon$)\n",
    "4. Maximizes the sum of high expression reactions active in either direction, plus the sum of low expression reactions that are inactive\n",
    "\n",
    "This can be expressed as:  \n",
    "\n",
    "$max_{v,y^+,y^-}(\\sum_{i \\in R_H} (y_i^+ + y_i^-) + \\sum_{i \\in R_L}y_i^+) $  \n",
    "  \n",
    "Such That  \n",
    "\n",
    "  \n",
    "$S \\cdot v =0 $    \n",
    "<br>\n",
    "$v_{min}\\leq v \\leq v_{max}$    \n",
    "<br>\n",
    "$v_i + y_i^+(v_{min,i}-\\epsilon) \\geq v_{min,i}; i\\in R_H$  \n",
    "<br>\n",
    "$v_i + y_i^-(v_{max,i}+\\epsilon) \\leq v_{max,i}; i \\in R_H$  \n",
    "<br>\n",
    "$v_{min,i}(1-y_i^+) \\leq v_i \\leq v_{max,i}(1-y_i^+);i \\in R_L$  \n",
    "<br>\n",
    "$v \\in R^m$    \n",
    "<br>\n",
    "$y_i^+, y_i^- \\in [0,1]$"
   ]
  },
  {
   "cell_type": "markdown",
   "id": "bca7bc30-5787-448c-aa92-5f9763034860",
   "metadata": {},
   "source": [
    "## Imports"
   ]
  },
  {
   "cell_type": "code",
   "execution_count": 1,
   "id": "0f58c473-49f0-49a6-b16e-1b891b7476b1",
   "metadata": {
    "ExecuteTime": {
     "end_time": "2024-04-15T17:11:56.226638Z",
     "start_time": "2024-04-15T17:11:54.060371Z"
    }
   },
   "outputs": [],
   "source": [
    "# Standard Library imports\n",
    "import pathlib\n",
    "\n",
    "# External Imports\n",
    "import cobra\n",
    "import metworkpy\n",
    "import numpy as np\n",
    "import pandas as pd\n",
    "\n",
    "# Local Imports"
   ]
  },
  {
   "cell_type": "markdown",
   "id": "b26bb6db4b948e67",
   "metadata": {},
   "source": [
    "## Setup\n",
    "Set the default solver to Gurobi to significantly speed up the analysis, and set a BASE_PATH so using absolute paths is easier"
   ]
  },
  {
   "cell_type": "code",
   "execution_count": 2,
   "id": "4d9eed421d3e4b8b",
   "metadata": {
    "ExecuteTime": {
     "end_time": "2024-04-15T17:11:56.231556Z",
     "start_time": "2024-04-15T17:11:56.228188Z"
    }
   },
   "outputs": [],
   "source": [
    "cobra.Configuration.solver = \"gurobi\"\n",
    "BASE_PATH = pathlib.Path(\"..\")"
   ]
  },
  {
   "cell_type": "markdown",
   "id": "9917be60-4109-4117-88fd-591032350ac3",
   "metadata": {},
   "source": [
    "## Data Preprocessing"
   ]
  },
  {
   "cell_type": "markdown",
   "id": "5618def8-b8a6-4f50-a7ac-45d7c38b1def",
   "metadata": {},
   "source": [
    "The first step is to read in the expression data, and convert it into trinarized reaction information."
   ]
  },
  {
   "cell_type": "markdown",
   "id": "0fee3780-b76f-41e3-af0c-4fc1cc6c759f",
   "metadata": {},
   "source": [
    "### Read in Expression Data"
   ]
  },
  {
   "cell_type": "code",
   "execution_count": 3,
   "id": "7d4a5d15-9920-42eb-bdf7-833e27a2cf28",
   "metadata": {
    "ExecuteTime": {
     "end_time": "2024-04-15T17:11:57.304040Z",
     "start_time": "2024-04-15T17:11:57.138819Z"
    }
   },
   "outputs": [],
   "source": [
    "gene_expression = pd.read_csv(BASE_PATH / 'data' / 'gene-expression' / 'kinase_RNA_seq.csv', index_col=0).drop( \"GrowthPhase\", axis=1)\n",
    "# Convert the RPKM measurements into TPM\n",
    "gene_expression = metworkpy.utils.rpkm_to_tpm(gene_expression)"
   ]
  },
  {
   "cell_type": "code",
   "execution_count": 4,
   "id": "a5ed302f1c122d0b",
   "metadata": {
    "ExecuteTime": {
     "end_time": "2024-04-15T17:11:58.008713Z",
     "start_time": "2024-04-15T17:11:57.991710Z"
    },
    "collapsed": false,
    "jupyter": {
     "outputs_hidden": false
    }
   },
   "outputs": [],
   "source": [
    "# Separate the expression data into biological replicates\n",
    "condition_dict = {\n",
    "    \"WT\":None,\n",
    "    \"PknB_KD\":None,\n",
    "    \"PknB_IND\":None,\n",
    "    \"PknD_KO\":None,\n",
    "    \"PknD_IND\":None,\n",
    "    \"PknE_KO\":None,\n",
    "    \"PknE_IND\":None,\n",
    "    \"PknF_KO\":None,\n",
    "    \"PknF_IND\":None,\n",
    "    \"PknG_KO\":None,\n",
    "    \"PknG_IND\":None,\n",
    "    \"PknH_KO\":None,\n",
    "    \"PknH_IND\":None,\n",
    "    \"PknJ_KO\":None,\n",
    "    \"PknJ_IND\":None,\n",
    "    \"PknK_KO\":None,\n",
    "    \"PknK_IND\":None,\n",
    "    \"PknL_KO\":None,\n",
    "    \"PknL_IND\":None,\n",
    "}\n",
    "for condition in condition_dict:\n",
    "    condition_dict[condition] = gene_expression.loc[gene_expression.index.str.startswith(condition)]"
   ]
  },
  {
   "cell_type": "markdown",
   "id": "19b0b542-77bb-472d-837f-95d3a3a1c131",
   "metadata": {},
   "source": [
    "### Convert Gene Expression into Trinarized Reactions\n",
    "Use the Gene-Protein-Reaction rules from the genome scale metabolic model to convert the gene expression data into trinarized reaction data."
   ]
  },
  {
   "cell_type": "code",
   "execution_count": 5,
   "id": "cbdde3ed-5d58-45a3-a5b5-e48cecedb5ce",
   "metadata": {
    "ExecuteTime": {
     "end_time": "2024-04-15T17:12:06.056231Z",
     "start_time": "2024-04-15T17:11:59.129882Z"
    }
   },
   "outputs": [],
   "source": [
    "# Convert gene expression into qualitative weights\n",
    "for condition in condition_dict:\n",
    "    condition_dict[condition] = metworkpy.utils.expr_to_weights(condition_dict[condition], quantile = 0.15, \n",
    "                                                                aggregator=np.median, sample_axis=0)"
   ]
  },
  {
   "cell_type": "code",
   "execution_count": 6,
   "id": "9ccbfa5096c47270",
   "metadata": {
    "ExecuteTime": {
     "end_time": "2024-04-15T17:12:06.958146Z",
     "start_time": "2024-04-15T17:12:06.058778Z"
    },
    "collapsed": false,
    "jupyter": {
     "outputs_hidden": false
    }
   },
   "outputs": [
    {
     "name": "stdout",
     "output_type": "stream",
     "text": [
      "Set parameter Username\n",
      "Academic license - for non-commercial use only - expires 2025-01-11\n"
     ]
    }
   ],
   "source": [
    "# Convert qualitative weights into trinarized reactions\n",
    "\n",
    "# Load the iEK1011 model\n",
    "iek1011 = metworkpy.read_model(BASE_PATH / 'data' / 'Models' / 'iEK1011_m7H10_media.json')\n",
    "\n",
    "# Convert the gene expression data into trinarized reaction data\n",
    "# WARNING: This step may take a while, it is not implemented very efficiently currently\n",
    "for condition in condition_dict:\n",
    "    p = BASE_PATH / 'cache' / f'{condition}_rxn_weights.json'\n",
    "    if p.exists():\n",
    "        condition_dict[condition] = pd.read_json(p, typ = \"series\")\n",
    "    else:\n",
    "        condition_dict[condition] = metworkpy.parse.gene_to_rxn_weights(iek1011, condition_dict[condition])\n",
    "        condition_dict[condition].to_json(p)"
   ]
  },
  {
   "cell_type": "markdown",
   "id": "a52ceb3c-6e2b-470d-b413-dbfc017b3a8f",
   "metadata": {},
   "source": [
    "## IMAT\n",
    "Now that the data has been processed, IMAT can be used to generate condition specific models in several ways. "
   ]
  },
  {
   "cell_type": "markdown",
   "id": "434ef9098c15bb1e",
   "metadata": {},
   "source": [
    "First, we can create a dataframe to hold the biomass growth for all methods across all conditions"
   ]
  },
  {
   "cell_type": "code",
   "execution_count": 7,
   "id": "b31f803985bdaf69",
   "metadata": {
    "ExecuteTime": {
     "end_time": "2024-04-15T17:12:06.962570Z",
     "start_time": "2024-04-15T17:12:06.959116Z"
    }
   },
   "outputs": [],
   "source": [
    "biomass_growth_df = pd.DataFrame(0., index = condition_dict.keys(), columns=[\"simple_bounds\", \"subset_model\", \"fva_model\", \"milp_model\"])"
   ]
  },
  {
   "cell_type": "markdown",
   "id": "216bd0042b3fed69",
   "metadata": {},
   "source": [
    "**WARNING**: This section takes a *very* long time to run! "
   ]
  },
  {
   "cell_type": "code",
   "execution_count": 8,
   "id": "e33e6957f6371224",
   "metadata": {
    "ExecuteTime": {
     "end_time": "2024-04-15T17:12:06.971996Z",
     "start_time": "2024-04-15T17:12:06.965069Z"
    }
   },
   "outputs": [],
   "source": [
    "# Function for performing the IMAT analysis in each condition\n",
    "\n",
    "def imat_per_method(method, condition_dict, base_path, biomass_growth_df):\n",
    "    print(f\"Method: {method}\")\n",
    "    print(\"***************************\")\n",
    "    for condition in condition_dict:\n",
    "        print(condition)\n",
    "        print(\"---------------\")\n",
    "        p = base_path / 'results' / method / f\"iek1011_{condition}_model.json\"\n",
    "        if p.exists():\n",
    "            model = metworkpy.read_model(str(p))\n",
    "        else:\n",
    "            try:\n",
    "                model = metworkpy.imat.generate_model(model = iek1011.copy(), rxn_weights=condition_dict[condition], method=method)\n",
    "                metworkpy.write_model(model, model_path=p)\n",
    "            except:\n",
    "                continue\n",
    "        biomass_growth_df.loc[condition, method] = model.slim_optimize()\n",
    "    \n",
    "        \n"
   ]
  },
  {
   "cell_type": "markdown",
   "id": "a641d3b74ba73091",
   "metadata": {},
   "source": [
    "### Simple Bounds"
   ]
  },
  {
   "cell_type": "code",
   "execution_count": 9,
   "id": "c4c2a217952b51a",
   "metadata": {
    "ExecuteTime": {
     "end_time": "2024-04-15T17:10:55.961059Z",
     "start_time": "2024-04-15T17:10:35.458485Z"
    }
   },
   "outputs": [
    {
     "name": "stdout",
     "output_type": "stream",
     "text": [
      "Method: simple_bounds\n",
      "***************************\n",
      "WT\n",
      "---------------\n",
      "PknB_KD\n",
      "---------------\n",
      "PknB_IND\n",
      "---------------\n",
      "PknD_KO\n",
      "---------------\n",
      "PknD_IND\n",
      "---------------\n",
      "PknE_KO\n",
      "---------------\n",
      "PknE_IND\n",
      "---------------\n",
      "PknF_KO\n",
      "---------------\n",
      "PknF_IND\n",
      "---------------\n",
      "PknG_KO\n",
      "---------------\n",
      "PknG_IND\n",
      "---------------\n",
      "PknH_KO\n",
      "---------------\n",
      "PknH_IND\n",
      "---------------\n",
      "PknJ_KO\n",
      "---------------\n",
      "PknJ_IND\n",
      "---------------\n",
      "PknK_KO\n",
      "---------------\n",
      "PknK_IND\n",
      "---------------\n",
      "PknL_KO\n",
      "---------------\n",
      "PknL_IND\n",
      "---------------\n"
     ]
    }
   ],
   "source": [
    "imat_per_method(method = \"simple_bounds\", condition_dict=condition_dict, base_path=BASE_PATH, biomass_growth_df=biomass_growth_df)"
   ]
  },
  {
   "cell_type": "markdown",
   "id": "7d3c9d957bb47d65",
   "metadata": {},
   "source": [
    "### Subset Model"
   ]
  },
  {
   "cell_type": "code",
   "execution_count": 10,
   "id": "752ff94019523ca8",
   "metadata": {
    "ExecuteTime": {
     "end_time": "2024-04-15T17:11:16.399174Z",
     "start_time": "2024-04-15T17:10:55.962767Z"
    }
   },
   "outputs": [
    {
     "name": "stdout",
     "output_type": "stream",
     "text": [
      "Method: subset_model\n",
      "***************************\n",
      "WT\n",
      "---------------\n",
      "PknB_KD\n",
      "---------------\n",
      "PknB_IND\n",
      "---------------\n",
      "PknD_KO\n",
      "---------------\n",
      "PknD_IND\n",
      "---------------\n",
      "PknE_KO\n",
      "---------------\n",
      "PknE_IND\n",
      "---------------\n",
      "PknF_KO\n",
      "---------------\n",
      "PknF_IND\n",
      "---------------\n",
      "PknG_KO\n",
      "---------------\n",
      "PknG_IND\n",
      "---------------\n",
      "PknH_KO\n",
      "---------------\n",
      "PknH_IND\n",
      "---------------\n",
      "PknJ_KO\n",
      "---------------\n",
      "PknJ_IND\n",
      "---------------\n",
      "PknK_KO\n",
      "---------------\n",
      "PknK_IND\n",
      "---------------\n",
      "PknL_KO\n",
      "---------------\n",
      "PknL_IND\n",
      "---------------\n"
     ]
    }
   ],
   "source": [
    "imat_per_method(method = \"subset_model\", condition_dict=condition_dict, base_path=BASE_PATH, biomass_growth_df=biomass_growth_df)"
   ]
  },
  {
   "cell_type": "markdown",
   "id": "2ad9013b520d7175",
   "metadata": {},
   "source": [
    "### FVA Model"
   ]
  },
  {
   "cell_type": "code",
   "execution_count": null,
   "id": "2b6b09b5bd20c0b1",
   "metadata": {
    "ExecuteTime": {
     "start_time": "2024-04-15T17:11:16.400329Z"
    }
   },
   "outputs": [
    {
     "name": "stdout",
     "output_type": "stream",
     "text": [
      "Method: fva_model\n",
      "***************************\n",
      "WT\n",
      "---------------\n",
      "PknB_KD\n",
      "---------------\n",
      "PknB_IND\n",
      "---------------\n",
      "Read LP format model from file /tmp/tmp2_48tp1e.lp\n",
      "Reading time = 0.01 seconds\n",
      ": 998 rows, 2456 columns, 11500 nonzeros\n",
      "Read LP format model from file /tmp/tmp8wmtnyru.lp\n",
      "Reading time = 0.01 seconds\n",
      ": 998 rows, 2456 columns, 11500 nonzeros\n",
      "Read LP format model from file /tmp/tmpuiu45nra.lp\n",
      "Reading time = 0.01 seconds\n",
      ": 998 rows, 2456 columns, 11500 nonzeros\n"
     ]
    }
   ],
   "source": [
    "imat_per_method(method = \"fva_model\", condition_dict=condition_dict, base_path=BASE_PATH, biomass_growth_df=biomass_growth_df)"
   ]
  },
  {
   "cell_type": "markdown",
   "id": "6e49293008f98e5b",
   "metadata": {},
   "source": [
    "### MILP Model"
   ]
  },
  {
   "cell_type": "code",
   "execution_count": null,
   "id": "377c65b6ca11435d",
   "metadata": {
    "ExecuteTime": {
     "start_time": "2024-04-15T17:12:11.879989Z"
    }
   },
   "outputs": [
    {
     "name": "stdout",
     "output_type": "stream",
     "text": [
      "Method: milp_model\n",
      "***************************\n",
      "WT\n",
      "---------------\n",
      "Read LP format model from file /tmp/tmp63z1u_po.lp\n",
      "Reading time = 0.01 seconds\n",
      ": 998 rows, 2456 columns, 11500 nonzeros\n",
      "Read LP format model from file /tmp/tmpa3aedazd.lp\n",
      "Reading time = 0.01 seconds\n",
      ": 998 rows, 2456 columns, 11500 nonzeros\n",
      "Read LP format model from file /tmp/tmpfh60fz0i.lp\n",
      "Reading time = 0.01 seconds\n",
      ": 998 rows, 2456 columns, 11500 nonzeros\n"
     ]
    }
   ],
   "source": [
    "imat_per_method(method = \"milp_model\", condition_dict=condition_dict, base_path=BASE_PATH, biomass_growth_df=biomass_growth_df)"
   ]
  },
  {
   "cell_type": "markdown",
   "id": "8f3ab7f8cf036899",
   "metadata": {},
   "source": [
    "### Biomass Results"
   ]
  },
  {
   "cell_type": "code",
   "execution_count": null,
   "id": "7aad9d2f0a980a1f",
   "metadata": {},
   "outputs": [],
   "source": [
    "\n",
    "biomass_growth_df.sort_index().to_csv(BASE_PATH / \"results\" / \"biomass_raw.csv\")\n",
    "\n",
    "biomass_prop = biomass_growth_df.drop(\"WT\", axis=0) / biomass_growth_df.loc[\"WT\"]\n",
    "biomass_prop.sort_index().to_csv(BASE_PATH/ \"results\" / \"biomass_proportion.csv\")"
   ]
  }
 ],
 "metadata": {
  "kernelspec": {
   "display_name": "Python 3 (ipykernel)",
   "language": "python",
   "name": "python3"
  },
  "language_info": {
   "codemirror_mode": {
    "name": "ipython",
    "version": 3
   },
   "file_extension": ".py",
   "mimetype": "text/x-python",
   "name": "python",
   "nbconvert_exporter": "python",
   "pygments_lexer": "ipython3",
   "version": "3.10.14"
  }
 },
 "nbformat": 4,
 "nbformat_minor": 5
}
