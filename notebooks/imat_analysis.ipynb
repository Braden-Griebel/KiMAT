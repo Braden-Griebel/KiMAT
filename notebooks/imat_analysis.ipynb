{
 "cells": [
  {
   "cell_type": "markdown",
   "id": "a5256619-cb81-46d5-ac8e-ac89b3384c15",
   "metadata": {},
   "source": [
    "# Kinase IMAT Modeling"
   ]
  },
  {
   "cell_type": "markdown",
   "id": "82066e02-edbc-45a6-ba4b-001eaddf4aa2",
   "metadata": {},
   "source": [
    "This notebook explores the impact that Serine-Threonine protein kinases have on *Mycobacterium tuberculosis* metabolism by integration of gene expression data with Genome Scale Metabolic Models (GSMM). This is done through use of the IMAT algorithm, described by [Shlomi et al., 2008](https://www.nature.com/articles/nbt.1487). This algorithm attempts to find an optimal trade off between having high flux through high expression reactions, and low flux through low expression reactions in order to determine a flux state which matches provided gene expression data. This flux state can then be used to generate a condition specific model used for futher analysis and modeling. "
   ]
  },
  {
   "cell_type": "markdown",
   "id": "3e615987-2156-4f09-bfb0-e186ce697151",
   "metadata": {},
   "source": [
    "## IMAT Algorithm"
   ]
  },
  {
   "cell_type": "markdown",
   "id": "fd928cec-8288-4c66-8cfc-9ccbbdd4c12d",
   "metadata": {},
   "source": [
    "The IMAT algorithm:\n",
    "1. Categorizes gene expression into low expression, high expression, and inbetween (normally expressed as -1, 1, and 0 respectively)\n",
    "2. Adds binary indicator variables ($y_i^+$ and $y_i^-$) to the metabolic model to represent whether a reaction with a high expression value, has a flux above a cutoff ($\\epsilon$) in the forward or reverse direction (+ for forward, - for reverse)\n",
    "3. Adds binary indicator variables ($y_i^+$) to the metabolic model to represent whether a reaction with a low expression value, has a flux below a cutoff ($\\epsilon$)\n",
    "4. Maximizes the sum of high expression reactions active in either direction, plus the sum of low expression reactions that are inactive\n",
    "\n",
    "This can be expressed as:  \n",
    "\n",
    "$max_{v,y^+,y^-}(\\sum_{i \\in R_H} (y_i^+ + y_i^-) + \\sum_{i \\in R_L}y_i^+) $  \n",
    "  \n",
    "Such That  \n",
    "\n",
    "  \n",
    "$S \\cdot v =0 $    \n",
    "<br>\n",
    "$v_{min}\\leq v \\leq v_{max}$    \n",
    "<br>\n",
    "$v_i + y_i^+(v_{min,i}-\\epsilon) \\geq v_{min,i}; i\\in R_H$  \n",
    "<br>\n",
    "$v_i + y_i^-(v_{max,i}+\\epsilon) \\leq v_{max,i}; i \\in R_H$  \n",
    "<br>\n",
    "$v_{min,i}(1-y_i^+) \\leq v_i \\leq v_{max,i}(1-y_i^+);i \\in R_L$  \n",
    "<br>\n",
    "$v \\in R^m$    \n",
    "<br>\n",
    "$y_i^+, y_i^- \\in [0,1]$"
   ]
  },
  {
   "cell_type": "markdown",
   "id": "bca7bc30-5787-448c-aa92-5f9763034860",
   "metadata": {},
   "source": [
    "## Imports"
   ]
  },
  {
   "cell_type": "code",
   "id": "0f58c473-49f0-49a6-b16e-1b891b7476b1",
   "metadata": {
    "ExecuteTime": {
     "end_time": "2024-04-10T21:21:00.796989Z",
     "start_time": "2024-04-10T21:20:58.810446Z"
    }
   },
   "source": [
    "# Standard Library imports\n",
    "import pathlib\n",
    "\n",
    "# External Imports\n",
    "import cobra\n",
    "import metworkpy\n",
    "import numpy as np\n",
    "import pandas as pd\n",
    "\n",
    "# Local Imports"
   ],
   "outputs": [],
   "execution_count": 1
  },
  {
   "metadata": {},
   "cell_type": "markdown",
   "source": [
    "## Setup\n",
    "Set the default solver to Gurobi to significantly speed up the analysis"
   ],
   "id": "b26bb6db4b948e67"
  },
  {
   "metadata": {
    "ExecuteTime": {
     "end_time": "2024-04-10T21:21:00.800850Z",
     "start_time": "2024-04-10T21:21:00.798124Z"
    }
   },
   "cell_type": "code",
   "source": "cobra.Configuration.solver = \"gurobi\"",
   "id": "4d9eed421d3e4b8b",
   "outputs": [],
   "execution_count": 2
  },
  {
   "cell_type": "markdown",
   "id": "9917be60-4109-4117-88fd-591032350ac3",
   "metadata": {},
   "source": [
    "## Data Preprocessing"
   ]
  },
  {
   "cell_type": "markdown",
   "id": "5618def8-b8a6-4f50-a7ac-45d7c38b1def",
   "metadata": {},
   "source": [
    "The first step is to read in the expression data, and convert it into trinarized reaction information."
   ]
  },
  {
   "cell_type": "markdown",
   "id": "0fee3780-b76f-41e3-af0c-4fc1cc6c759f",
   "metadata": {},
   "source": [
    "### Read in Expression Data"
   ]
  },
  {
   "cell_type": "code",
   "id": "7d4a5d15-9920-42eb-bdf7-833e27a2cf28",
   "metadata": {
    "ExecuteTime": {
     "end_time": "2024-04-10T21:21:00.926553Z",
     "start_time": "2024-04-10T21:21:00.802144Z"
    }
   },
   "source": [
    "gene_expression = pd.read_csv(pathlib.Path('..') / 'data' / 'gene-expression' / 'kinase_RNA_seq.csv', index_col=0).drop( \"GrowthPhase\", axis=1)\n",
    "# Convert the RPKM measurements into TPM\n",
    "gene_expression = metworkpy.utils.rpkm_to_tpm(gene_expression)"
   ],
   "outputs": [],
   "execution_count": 3
  },
  {
   "cell_type": "code",
   "source": [
    "# Separate the expression data into biological replicates\n",
    "condition_dict = {\n",
    "    \"WT\":None,\n",
    "    \"PknB_KD\":None,\n",
    "    \"PknB_IND\":None,\n",
    "    \"PknD_KO\":None,\n",
    "    \"PknD_IND\":None,\n",
    "    \"PknE_KO\":None,\n",
    "    \"PknE_IND\":None,\n",
    "    \"PknF_KO\":None,\n",
    "    \"PknF_IND\":None,\n",
    "    \"PknG_KO\":None,\n",
    "    \"PknG_IND\":None,\n",
    "    \"PknH_KO\":None,\n",
    "    \"PknH_IND\":None,\n",
    "    \"PknJ_KO\":None,\n",
    "    \"PknJ_IND\":None,\n",
    "    \"PknK_KO\":None,\n",
    "    \"PknK_IND\":None,\n",
    "    \"PknL_KO\":None,\n",
    "    \"PknL_IND\":None,\n",
    "}\n",
    "for condition in condition_dict:\n",
    "    condition_dict[condition] = gene_expression.loc[gene_expression.index.str.startswith(condition)]"
   ],
   "metadata": {
    "collapsed": false,
    "ExecuteTime": {
     "end_time": "2024-04-10T21:21:00.938580Z",
     "start_time": "2024-04-10T21:21:00.928191Z"
    }
   },
   "id": "a5ed302f1c122d0b",
   "outputs": [],
   "execution_count": 4
  },
  {
   "cell_type": "markdown",
   "id": "19b0b542-77bb-472d-837f-95d3a3a1c131",
   "metadata": {},
   "source": [
    "### Convert Gene Expression into Trinarized Reactions\n",
    "Use the Gene-Protein-Reaction rules from the genome scale metabolic model to convert the gene expression data into trinarized reaction data."
   ]
  },
  {
   "cell_type": "code",
   "id": "cbdde3ed-5d58-45a3-a5b5-e48cecedb5ce",
   "metadata": {
    "ExecuteTime": {
     "end_time": "2024-04-10T21:21:05.074168Z",
     "start_time": "2024-04-10T21:21:00.939732Z"
    }
   },
   "source": [
    "# Convert gene expression into qualitative weights\n",
    "for condition in condition_dict:\n",
    "    condition_dict[condition] = metworkpy.utils.expr_to_weights(condition_dict[condition], quantile = 0.15, \n",
    "                                                                aggregator=np.median, sample_axis=0)"
   ],
   "outputs": [],
   "execution_count": 5
  },
  {
   "cell_type": "code",
   "source": [
    "# Convert qualitative weights into trinarized reactions\n",
    "\n",
    "# Load the iEK1011 model\n",
    "iek1011 = metworkpy.read_model(pathlib.Path('..') / 'data' / 'Models' / 'iEK1011_m7H10_media.json')\n",
    "\n",
    "# Convert the gene expression data into trinarized reaction data\n",
    "# WARNING: This step may take a while, it is not implemented very efficiently currently\n",
    "for condition in condition_dict:\n",
    "    p = pathlib.Path('..') / 'cache' / f'{condition}_rxn_weights.json'\n",
    "    if p.exists():\n",
    "        condition_dict[condition] = pd.read_json(p, typ = \"series\")\n",
    "    else:\n",
    "        condition_dict[condition] = metworkpy.parse.gene_to_rxn_weights(iek1011, condition_dict[condition])\n",
    "        condition_dict[condition].to_json(p)"
   ],
   "metadata": {
    "collapsed": false,
    "ExecuteTime": {
     "end_time": "2024-04-10T21:21:05.928326Z",
     "start_time": "2024-04-10T21:21:05.075259Z"
    }
   },
   "id": "9ccbfa5096c47270",
   "outputs": [
    {
     "name": "stdout",
     "output_type": "stream",
     "text": [
      "Set parameter Username\n",
      "Academic license - for non-commercial use only - expires 2025-01-11\n"
     ]
    }
   ],
   "execution_count": 6
  },
  {
   "cell_type": "markdown",
   "id": "a52ceb3c-6e2b-470d-b413-dbfc017b3a8f",
   "metadata": {},
   "source": [
    "## IMAT\n",
    "Now that the data has been processed, IMAT can be used to generate condition specific models in several ways. "
   ]
  },
  {
   "metadata": {},
   "cell_type": "markdown",
   "source": "First, we can create a dataframe to hold the biomass growth for all methods across all conditions",
   "id": "434ef9098c15bb1e"
  },
  {
   "metadata": {
    "ExecuteTime": {
     "end_time": "2024-04-10T21:21:05.933906Z",
     "start_time": "2024-04-10T21:21:05.930321Z"
    }
   },
   "cell_type": "code",
   "source": "biomass_growth_df = pd.DataFrame(0., index = condition_dict.keys(), columns=[\"simple_bounds\", \"subset_model\", \"fva_model\", \"milp_model\"])",
   "id": "b31f803985bdaf69",
   "outputs": [],
   "execution_count": 7
  },
  {
   "metadata": {},
   "cell_type": "markdown",
   "source": "**WARNING**: This section takes a *very* long time to run! ",
   "id": "216bd0042b3fed69"
  },
  {
   "metadata": {},
   "cell_type": "markdown",
   "source": "### Simple Bounds",
   "id": "a641d3b74ba73091"
  },
  {
   "metadata": {
    "ExecuteTime": {
     "end_time": "2024-04-10T21:21:21.782794Z",
     "start_time": "2024-04-10T21:21:05.936179Z"
    }
   },
   "cell_type": "code",
   "source": [
    "METHOD = \"simple_bounds\"\n",
    "model_dict = dict()\n",
    "\n",
    "print(METHOD)\n",
    "for condition in condition_dict:\n",
    "    print(condition)\n",
    "    p = pathlib.Path('..') / 'results' /  METHOD / f'iek1011_{condition}_model.json'\n",
    "    if p.exists():\n",
    "        model_dict[condition] = metworkpy.read_model(str(p))\n",
    "    else:\n",
    "        model_dict[condition] = metworkpy.imat.generate_model(model=iek1011.copy(), rxn_weights=condition_dict[condition], method=METHOD)\n",
    "        metworkpy.write_model(model_dict[condition], model_path=p)   \n",
    "    biomass_growth_df.loc[condition, METHOD] = model_dict[condition].slim_optimize()"
   ],
   "id": "aabb75729cb9fd41",
   "outputs": [
    {
     "name": "stdout",
     "output_type": "stream",
     "text": [
      "simple_bounds\n",
      "WT\n",
      "PknB_KD\n",
      "PknB_IND\n",
      "PknD_KO\n",
      "PknD_IND\n",
      "PknE_KO\n",
      "PknE_IND\n",
      "PknF_KO\n",
      "PknF_IND\n",
      "PknG_KO\n",
      "PknG_IND\n",
      "PknH_KO\n",
      "PknH_IND\n",
      "PknJ_KO\n",
      "PknJ_IND\n",
      "PknK_KO\n",
      "PknK_IND\n",
      "PknL_KO\n",
      "PknL_IND\n"
     ]
    }
   ],
   "execution_count": 8
  },
  {
   "metadata": {},
   "cell_type": "markdown",
   "source": "### Subset Model",
   "id": "7d3c9d957bb47d65"
  },
  {
   "metadata": {
    "ExecuteTime": {
     "end_time": "2024-04-10T21:21:39.157823Z",
     "start_time": "2024-04-10T21:21:21.783553Z"
    }
   },
   "cell_type": "code",
   "source": [
    "METHOD = \"subset_model\"\n",
    "model_dict = dict()\n",
    "print(METHOD)\n",
    "for condition in condition_dict:\n",
    "    print(condition)\n",
    "    p = pathlib.Path('..') / 'results' /  METHOD / f'iek1011_{condition}_model.json'\n",
    "    if p.exists():\n",
    "        model_dict[condition] = metworkpy.read_model(str(p))\n",
    "    else:\n",
    "        model_dict[condition] = metworkpy.imat.generate_model(model=iek1011.copy(), rxn_weights=condition_dict[condition], method=METHOD)\n",
    "        metworkpy.write_model(model_dict[condition], model_path=p)\n",
    "    biomass_growth_df.loc[condition, METHOD] = model_dict[condition].slim_optimize()"
   ],
   "id": "a2eec575480e4dfe",
   "outputs": [
    {
     "name": "stdout",
     "output_type": "stream",
     "text": [
      "subset_model\n",
      "WT\n",
      "PknB_KD\n",
      "PknB_IND\n",
      "PknD_KO\n",
      "PknD_IND\n",
      "PknE_KO\n",
      "PknE_IND\n",
      "PknF_KO\n",
      "PknF_IND\n",
      "PknG_KO\n",
      "PknG_IND\n",
      "PknH_KO\n",
      "PknH_IND\n",
      "PknJ_KO\n",
      "PknJ_IND\n",
      "PknK_KO\n",
      "PknK_IND\n",
      "PknL_KO\n",
      "PknL_IND\n"
     ]
    }
   ],
   "execution_count": 9
  },
  {
   "metadata": {},
   "cell_type": "markdown",
   "source": "### FVA Model",
   "id": "2ad9013b520d7175"
  },
  {
   "metadata": {
    "ExecuteTime": {
     "end_time": "2024-04-10T22:30:46.007312Z",
     "start_time": "2024-04-10T21:21:39.159356Z"
    }
   },
   "cell_type": "code",
   "source": [
    "METHOD = \"fva_model\"\n",
    "model_dict = dict()\n",
    "print(METHOD)\n",
    "for condition in condition_dict:\n",
    "    print(condition)\n",
    "    p = pathlib.Path('..') / 'results' /  METHOD / f'iek1011_{condition}_model.json'\n",
    "    if p.exists():\n",
    "        model_dict[condition] = metworkpy.read_model(str(p))\n",
    "    else:\n",
    "        model_dict[condition] = metworkpy.imat.generate_model(model=iek1011.copy(), rxn_weights=condition_dict[condition], method=METHOD, loopless=False)\n",
    "        metworkpy.write_model(model_dict[condition], model_path=p)\n",
    "    biomass_growth_df.loc[condition, METHOD] = model_dict[condition].slim_optimize()"
   ],
   "id": "acb678b30ab9c628",
   "outputs": [
    {
     "name": "stdout",
     "output_type": "stream",
     "text": [
      "fva_model\n",
      "WT\n",
      "Read LP format model from file /tmp/tmpoecln3_u.lp\n",
      "Reading time = 0.01 seconds\n",
      ": 998 rows, 2456 columns, 11500 nonzeros\n",
      "Read LP format model from file /tmp/tmptba68cw3.lp\n",
      "Reading time = 0.01 seconds\n",
      ": 998 rows, 2456 columns, 11500 nonzeros\n",
      "Read LP format model from file /tmp/tmpvr_5_23s.lp\n",
      "Reading time = 0.01 seconds\n",
      ": 998 rows, 2456 columns, 11500 nonzeros\n",
      "PknB_KD\n",
      "Read LP format model from file /tmp/tmpqtrryhw7.lp\n",
      "Reading time = 0.01 seconds\n",
      ": 998 rows, 2456 columns, 11500 nonzeros\n",
      "Read LP format model from file /tmp/tmp_tw27x0f.lp\n",
      "Reading time = 0.01 seconds\n",
      ": 998 rows, 2456 columns, 11500 nonzeros\n",
      "Read LP format model from file /tmp/tmpwpw0wl4q.lp\n",
      "Reading time = 0.01 seconds\n",
      ": 998 rows, 2456 columns, 11500 nonzeros\n",
      "\n",
      "Interrupt request received\n"
     ]
    },
    {
     "name": "stderr",
     "output_type": "stream",
     "text": [
      "Process ForkPoolWorker-26:\n",
      "Process ForkPoolWorker-24:\n",
      "Traceback (most recent call last):\n",
      "Traceback (most recent call last):\n",
      "  File \"/home/bgriebel/miniforge3/envs/KiMAT/lib/python3.11/multiprocessing/process.py\", line 314, in _bootstrap\n",
      "    self.run()\n",
      "  File \"/home/bgriebel/miniforge3/envs/KiMAT/lib/python3.11/multiprocessing/process.py\", line 314, in _bootstrap\n",
      "    self.run()\n",
      "  File \"/home/bgriebel/miniforge3/envs/KiMAT/lib/python3.11/multiprocessing/process.py\", line 108, in run\n",
      "    self._target(*self._args, **self._kwargs)\n",
      "  File \"/home/bgriebel/miniforge3/envs/KiMAT/lib/python3.11/multiprocessing/process.py\", line 108, in run\n",
      "    self._target(*self._args, **self._kwargs)\n",
      "  File \"/home/bgriebel/miniforge3/envs/KiMAT/lib/python3.11/multiprocessing/pool.py\", line 114, in worker\n",
      "    task = get()\n",
      "           ^^^^^\n",
      "  File \"/home/bgriebel/miniforge3/envs/KiMAT/lib/python3.11/multiprocessing/pool.py\", line 114, in worker\n",
      "    task = get()\n",
      "           ^^^^^\n",
      "  File \"/home/bgriebel/miniforge3/envs/KiMAT/lib/python3.11/multiprocessing/queues.py\", line 364, in get\n",
      "    with self._rlock:\n",
      "  File \"/home/bgriebel/miniforge3/envs/KiMAT/lib/python3.11/multiprocessing/queues.py\", line 365, in get\n",
      "    res = self._reader.recv_bytes()\n",
      "          ^^^^^^^^^^^^^^^^^^^^^^^^^\n",
      "  File \"/home/bgriebel/miniforge3/envs/KiMAT/lib/python3.11/multiprocessing/synchronize.py\", line 95, in __enter__\n",
      "    return self._semlock.__enter__()\n",
      "           ^^^^^^^^^^^^^^^^^^^^^^^^^\n",
      "  File \"/home/bgriebel/miniforge3/envs/KiMAT/lib/python3.11/multiprocessing/connection.py\", line 216, in recv_bytes\n",
      "    buf = self._recv_bytes(maxlength)\n",
      "          ^^^^^^^^^^^^^^^^^^^^^^^^^^^\n",
      "KeyboardInterrupt\n",
      "  File \"/home/bgriebel/miniforge3/envs/KiMAT/lib/python3.11/multiprocessing/connection.py\", line 430, in _recv_bytes\n",
      "    buf = self._recv(4)\n",
      "          ^^^^^^^^^^^^^\n",
      "  File \"/home/bgriebel/miniforge3/envs/KiMAT/lib/python3.11/multiprocessing/connection.py\", line 395, in _recv\n",
      "    chunk = read(handle, remaining)\n",
      "            ^^^^^^^^^^^^^^^^^^^^^^^\n",
      "KeyboardInterrupt\n"
     ]
    },
    {
     "ename": "KeyboardInterrupt",
     "evalue": "",
     "output_type": "error",
     "traceback": [
      "\u001B[0;31m---------------------------------------------------------------------------\u001B[0m",
      "\u001B[0;31mIndexError\u001B[0m                                Traceback (most recent call last)",
      "File \u001B[0;32m~/miniforge3/envs/KiMAT/lib/python3.11/multiprocessing/pool.py:856\u001B[0m, in \u001B[0;36mIMapIterator.next\u001B[0;34m(self, timeout)\u001B[0m\n\u001B[1;32m    855\u001B[0m \u001B[38;5;28;01mtry\u001B[39;00m:\n\u001B[0;32m--> 856\u001B[0m     item \u001B[38;5;241m=\u001B[39m \u001B[38;5;28mself\u001B[39m\u001B[38;5;241m.\u001B[39m_items\u001B[38;5;241m.\u001B[39mpopleft()\n\u001B[1;32m    857\u001B[0m \u001B[38;5;28;01mexcept\u001B[39;00m \u001B[38;5;167;01mIndexError\u001B[39;00m:\n",
      "\u001B[0;31mIndexError\u001B[0m: pop from an empty deque",
      "\nDuring handling of the above exception, another exception occurred:\n",
      "\u001B[0;31mKeyboardInterrupt\u001B[0m                         Traceback (most recent call last)",
      "File \u001B[0;32m~/miniforge3/envs/KiMAT/lib/python3.11/site-packages/cobra/flux_analysis/variability.py:244\u001B[0m, in \u001B[0;36mflux_variability_analysis\u001B[0;34m(model, reaction_list, loopless, fraction_of_optimum, pfba_factor, processes)\u001B[0m\n\u001B[1;32m    239\u001B[0m \u001B[38;5;28;01mwith\u001B[39;00m ProcessPool(\n\u001B[1;32m    240\u001B[0m     processes,\n\u001B[1;32m    241\u001B[0m     initializer\u001B[38;5;241m=\u001B[39m_init_worker,\n\u001B[1;32m    242\u001B[0m     initargs\u001B[38;5;241m=\u001B[39m(model, loopless, what[:\u001B[38;5;241m3\u001B[39m]),\n\u001B[1;32m    243\u001B[0m ) \u001B[38;5;28;01mas\u001B[39;00m pool:\n\u001B[0;32m--> 244\u001B[0m \u001B[43m    \u001B[49m\u001B[38;5;28;43;01mfor\u001B[39;49;00m\u001B[43m \u001B[49m\u001B[43mrxn_id\u001B[49m\u001B[43m,\u001B[49m\u001B[43m \u001B[49m\u001B[43mvalue\u001B[49m\u001B[43m \u001B[49m\u001B[38;5;129;43;01min\u001B[39;49;00m\u001B[43m \u001B[49m\u001B[43mpool\u001B[49m\u001B[38;5;241;43m.\u001B[39;49m\u001B[43mimap_unordered\u001B[49m\u001B[43m(\u001B[49m\n\u001B[1;32m    245\u001B[0m \u001B[43m        \u001B[49m\u001B[43m_fva_step\u001B[49m\u001B[43m,\u001B[49m\u001B[43m \u001B[49m\u001B[43mreaction_ids\u001B[49m\u001B[43m,\u001B[49m\u001B[43m \u001B[49m\u001B[43mchunksize\u001B[49m\u001B[38;5;241;43m=\u001B[39;49m\u001B[43mchunk_size\u001B[49m\n\u001B[1;32m    246\u001B[0m \u001B[43m    \u001B[49m\u001B[43m)\u001B[49m\u001B[43m:\u001B[49m\n\u001B[1;32m    247\u001B[0m \u001B[43m        \u001B[49m\u001B[43mfva_result\u001B[49m\u001B[38;5;241;43m.\u001B[39;49m\u001B[43mat\u001B[49m\u001B[43m[\u001B[49m\u001B[43mrxn_id\u001B[49m\u001B[43m,\u001B[49m\u001B[43m \u001B[49m\u001B[43mwhat\u001B[49m\u001B[43m]\u001B[49m\u001B[43m \u001B[49m\u001B[38;5;241;43m=\u001B[39;49m\u001B[43m \u001B[49m\u001B[43mvalue\u001B[49m\n",
      "File \u001B[0;32m~/miniforge3/envs/KiMAT/lib/python3.11/multiprocessing/pool.py:451\u001B[0m, in \u001B[0;36m<genexpr>\u001B[0;34m(.0)\u001B[0m\n\u001B[1;32m    444\u001B[0m \u001B[38;5;28mself\u001B[39m\u001B[38;5;241m.\u001B[39m_taskqueue\u001B[38;5;241m.\u001B[39mput(\n\u001B[1;32m    445\u001B[0m     (\n\u001B[1;32m    446\u001B[0m         \u001B[38;5;28mself\u001B[39m\u001B[38;5;241m.\u001B[39m_guarded_task_generation(result\u001B[38;5;241m.\u001B[39m_job,\n\u001B[0;32m   (...)\u001B[0m\n\u001B[1;32m    449\u001B[0m         result\u001B[38;5;241m.\u001B[39m_set_length\n\u001B[1;32m    450\u001B[0m     ))\n\u001B[0;32m--> 451\u001B[0m \u001B[38;5;28;01mreturn\u001B[39;00m \u001B[43m(\u001B[49m\u001B[43mitem\u001B[49m\u001B[43m \u001B[49m\u001B[38;5;28;43;01mfor\u001B[39;49;00m\u001B[43m \u001B[49m\u001B[43mchunk\u001B[49m\u001B[43m \u001B[49m\u001B[38;5;129;43;01min\u001B[39;49;00m\u001B[43m \u001B[49m\u001B[43mresult\u001B[49m\u001B[43m \u001B[49m\u001B[38;5;28;43;01mfor\u001B[39;49;00m\u001B[43m \u001B[49m\u001B[43mitem\u001B[49m\u001B[43m \u001B[49m\u001B[38;5;129;43;01min\u001B[39;49;00m\u001B[43m \u001B[49m\u001B[43mchunk\u001B[49m\u001B[43m)\u001B[49m\n",
      "File \u001B[0;32m~/miniforge3/envs/KiMAT/lib/python3.11/multiprocessing/pool.py:861\u001B[0m, in \u001B[0;36mIMapIterator.next\u001B[0;34m(self, timeout)\u001B[0m\n\u001B[1;32m    860\u001B[0m     \u001B[38;5;28;01mraise\u001B[39;00m \u001B[38;5;167;01mStopIteration\u001B[39;00m \u001B[38;5;28;01mfrom\u001B[39;00m \u001B[38;5;28;01mNone\u001B[39;00m\n\u001B[0;32m--> 861\u001B[0m \u001B[38;5;28;43mself\u001B[39;49m\u001B[38;5;241;43m.\u001B[39;49m\u001B[43m_cond\u001B[49m\u001B[38;5;241;43m.\u001B[39;49m\u001B[43mwait\u001B[49m\u001B[43m(\u001B[49m\u001B[43mtimeout\u001B[49m\u001B[43m)\u001B[49m\n\u001B[1;32m    862\u001B[0m \u001B[38;5;28;01mtry\u001B[39;00m:\n",
      "File \u001B[0;32m~/miniforge3/envs/KiMAT/lib/python3.11/threading.py:327\u001B[0m, in \u001B[0;36mCondition.wait\u001B[0;34m(self, timeout)\u001B[0m\n\u001B[1;32m    326\u001B[0m \u001B[38;5;28;01mif\u001B[39;00m timeout \u001B[38;5;129;01mis\u001B[39;00m \u001B[38;5;28;01mNone\u001B[39;00m:\n\u001B[0;32m--> 327\u001B[0m     \u001B[43mwaiter\u001B[49m\u001B[38;5;241;43m.\u001B[39;49m\u001B[43macquire\u001B[49m\u001B[43m(\u001B[49m\u001B[43m)\u001B[49m\n\u001B[1;32m    328\u001B[0m     gotit \u001B[38;5;241m=\u001B[39m \u001B[38;5;28;01mTrue\u001B[39;00m\n",
      "\u001B[0;31mKeyboardInterrupt\u001B[0m: ",
      "\nDuring handling of the above exception, another exception occurred:\n",
      "\u001B[0;31mKeyboardInterrupt\u001B[0m                         Traceback (most recent call last)",
      "Cell \u001B[0;32mIn[10], line 10\u001B[0m\n\u001B[1;32m      8\u001B[0m     model_dict[condition] \u001B[38;5;241m=\u001B[39m metworkpy\u001B[38;5;241m.\u001B[39mread_model(\u001B[38;5;28mstr\u001B[39m(p))\n\u001B[1;32m      9\u001B[0m \u001B[38;5;28;01melse\u001B[39;00m:\n\u001B[0;32m---> 10\u001B[0m     model_dict[condition] \u001B[38;5;241m=\u001B[39m \u001B[43mmetworkpy\u001B[49m\u001B[38;5;241;43m.\u001B[39;49m\u001B[43mimat\u001B[49m\u001B[38;5;241;43m.\u001B[39;49m\u001B[43mgenerate_model\u001B[49m\u001B[43m(\u001B[49m\u001B[43mmodel\u001B[49m\u001B[38;5;241;43m=\u001B[39;49m\u001B[43miek1011\u001B[49m\u001B[38;5;241;43m.\u001B[39;49m\u001B[43mcopy\u001B[49m\u001B[43m(\u001B[49m\u001B[43m)\u001B[49m\u001B[43m,\u001B[49m\u001B[43m \u001B[49m\u001B[43mrxn_weights\u001B[49m\u001B[38;5;241;43m=\u001B[39;49m\u001B[43mcondition_dict\u001B[49m\u001B[43m[\u001B[49m\u001B[43mcondition\u001B[49m\u001B[43m]\u001B[49m\u001B[43m,\u001B[49m\u001B[43m \u001B[49m\u001B[43mmethod\u001B[49m\u001B[38;5;241;43m=\u001B[39;49m\u001B[43mMETHOD\u001B[49m\u001B[43m,\u001B[49m\u001B[43m \u001B[49m\u001B[43mloopless\u001B[49m\u001B[38;5;241;43m=\u001B[39;49m\u001B[38;5;28;43;01mFalse\u001B[39;49;00m\u001B[43m)\u001B[49m\n\u001B[1;32m     11\u001B[0m     metworkpy\u001B[38;5;241m.\u001B[39mwrite_model(model_dict[condition], model_path\u001B[38;5;241m=\u001B[39mp)\n\u001B[1;32m     12\u001B[0m biomass_growth_df\u001B[38;5;241m.\u001B[39mloc[condition, METHOD] \u001B[38;5;241m=\u001B[39m model_dict[condition]\u001B[38;5;241m.\u001B[39mslim_optimize()\n",
      "File \u001B[0;32m~/cgidr/metworkpy/metworkpy/imat/model_creation.py:86\u001B[0m, in \u001B[0;36mgenerate_model\u001B[0;34m(model, rxn_weights, method, epsilon, threshold, objective_tolerance, **kwargs)\u001B[0m\n\u001B[1;32m     84\u001B[0m     \u001B[38;5;28;01mreturn\u001B[39;00m subset_model(model, rxn_weights, epsilon, threshold, \u001B[38;5;241m*\u001B[39m\u001B[38;5;241m*\u001B[39mkwargs)\n\u001B[1;32m     85\u001B[0m \u001B[38;5;28;01melif\u001B[39;00m method \u001B[38;5;241m==\u001B[39m \u001B[38;5;124m\"\u001B[39m\u001B[38;5;124mfva\u001B[39m\u001B[38;5;124m\"\u001B[39m:\n\u001B[0;32m---> 86\u001B[0m     \u001B[38;5;28;01mreturn\u001B[39;00m \u001B[43mfva_model\u001B[49m\u001B[43m(\u001B[49m\n\u001B[1;32m     87\u001B[0m \u001B[43m        \u001B[49m\u001B[43mmodel\u001B[49m\u001B[43m,\u001B[49m\u001B[43m \u001B[49m\u001B[43mrxn_weights\u001B[49m\u001B[43m,\u001B[49m\u001B[43m \u001B[49m\u001B[43mepsilon\u001B[49m\u001B[43m,\u001B[49m\u001B[43m \u001B[49m\u001B[43mthreshold\u001B[49m\u001B[43m,\u001B[49m\u001B[43m \u001B[49m\u001B[43mobjective_tolerance\u001B[49m\u001B[43m,\u001B[49m\u001B[43m \u001B[49m\u001B[38;5;241;43m*\u001B[39;49m\u001B[38;5;241;43m*\u001B[39;49m\u001B[43mkwargs\u001B[49m\n\u001B[1;32m     88\u001B[0m \u001B[43m    \u001B[49m\u001B[43m)\u001B[49m\n\u001B[1;32m     89\u001B[0m \u001B[38;5;28;01melif\u001B[39;00m method \u001B[38;5;241m==\u001B[39m \u001B[38;5;124m\"\u001B[39m\u001B[38;5;124mmilp\u001B[39m\u001B[38;5;124m\"\u001B[39m:\n\u001B[1;32m     90\u001B[0m     \u001B[38;5;28;01mreturn\u001B[39;00m milp_model(model, rxn_weights, epsilon, threshold, \u001B[38;5;241m*\u001B[39m\u001B[38;5;241m*\u001B[39mkwargs)\n",
      "File \u001B[0;32m~/cgidr/metworkpy/metworkpy/imat/model_creation.py:315\u001B[0m, in \u001B[0;36mfva_model\u001B[0;34m(model, rxn_weights, epsilon, threshold, objective_tolerance, loopless)\u001B[0m\n\u001B[1;32m    313\u001B[0m imat_model \u001B[38;5;241m=\u001B[39m add_imat_constraints(model, rxn_weights, epsilon, threshold)\n\u001B[1;32m    314\u001B[0m add_imat_objective_(imat_model, rxn_weights)\n\u001B[0;32m--> 315\u001B[0m fva_res \u001B[38;5;241m=\u001B[39m \u001B[43mcobra\u001B[49m\u001B[38;5;241;43m.\u001B[39;49m\u001B[43mflux_analysis\u001B[49m\u001B[38;5;241;43m.\u001B[39;49m\u001B[43mflux_variability_analysis\u001B[49m\u001B[43m(\u001B[49m\n\u001B[1;32m    316\u001B[0m \u001B[43m    \u001B[49m\u001B[43mimat_model\u001B[49m\u001B[43m,\u001B[49m\n\u001B[1;32m    317\u001B[0m \u001B[43m    \u001B[49m\u001B[43mfraction_of_optimum\u001B[49m\u001B[38;5;241;43m=\u001B[39;49m\u001B[43m(\u001B[49m\u001B[38;5;241;43m1\u001B[39;49m\u001B[43m \u001B[49m\u001B[38;5;241;43m-\u001B[39;49m\u001B[43m \u001B[49m\u001B[43mobjective_tolerance\u001B[49m\u001B[43m)\u001B[49m\u001B[43m,\u001B[49m\n\u001B[1;32m    318\u001B[0m \u001B[43m    \u001B[49m\u001B[43mloopless\u001B[49m\u001B[38;5;241;43m=\u001B[39;49m\u001B[43mloopless\u001B[49m\u001B[43m,\u001B[49m\n\u001B[1;32m    319\u001B[0m \u001B[43m\u001B[49m\u001B[43m)\u001B[49m\u001B[38;5;241m.\u001B[39mdropna()\n\u001B[1;32m    320\u001B[0m reactions \u001B[38;5;241m=\u001B[39m rxn_weights[\u001B[38;5;241m~\u001B[39mnp\u001B[38;5;241m.\u001B[39misclose(rxn_weights, \u001B[38;5;241m0\u001B[39m)]\u001B[38;5;241m.\u001B[39mindex\u001B[38;5;241m.\u001B[39mtolist()\n\u001B[1;32m    321\u001B[0m \u001B[38;5;28;01mfor\u001B[39;00m rxn \u001B[38;5;129;01min\u001B[39;00m reactions:\n",
      "File \u001B[0;32m~/miniforge3/envs/KiMAT/lib/python3.11/site-packages/cobra/flux_analysis/variability.py:239\u001B[0m, in \u001B[0;36mflux_variability_analysis\u001B[0;34m(model, reaction_list, loopless, fraction_of_optimum, pfba_factor, processes)\u001B[0m\n\u001B[1;32m    234\u001B[0m \u001B[38;5;28;01mif\u001B[39;00m processes \u001B[38;5;241m>\u001B[39m \u001B[38;5;241m1\u001B[39m:\n\u001B[1;32m    235\u001B[0m     \u001B[38;5;66;03m# We create and destroy a new pool here in order to set the\u001B[39;00m\n\u001B[1;32m    236\u001B[0m     \u001B[38;5;66;03m# objective direction for all reactions. This creates a\u001B[39;00m\n\u001B[1;32m    237\u001B[0m     \u001B[38;5;66;03m# slight overhead but seems the most clean.\u001B[39;00m\n\u001B[1;32m    238\u001B[0m     chunk_size \u001B[38;5;241m=\u001B[39m \u001B[38;5;28mlen\u001B[39m(reaction_ids) \u001B[38;5;241m/\u001B[39m\u001B[38;5;241m/\u001B[39m processes\n\u001B[0;32m--> 239\u001B[0m \u001B[43m    \u001B[49m\u001B[38;5;28;43;01mwith\u001B[39;49;00m\u001B[43m \u001B[49m\u001B[43mProcessPool\u001B[49m\u001B[43m(\u001B[49m\n\u001B[1;32m    240\u001B[0m \u001B[43m        \u001B[49m\u001B[43mprocesses\u001B[49m\u001B[43m,\u001B[49m\n\u001B[1;32m    241\u001B[0m \u001B[43m        \u001B[49m\u001B[43minitializer\u001B[49m\u001B[38;5;241;43m=\u001B[39;49m\u001B[43m_init_worker\u001B[49m\u001B[43m,\u001B[49m\n\u001B[1;32m    242\u001B[0m \u001B[43m        \u001B[49m\u001B[43minitargs\u001B[49m\u001B[38;5;241;43m=\u001B[39;49m\u001B[43m(\u001B[49m\u001B[43mmodel\u001B[49m\u001B[43m,\u001B[49m\u001B[43m \u001B[49m\u001B[43mloopless\u001B[49m\u001B[43m,\u001B[49m\u001B[43m \u001B[49m\u001B[43mwhat\u001B[49m\u001B[43m[\u001B[49m\u001B[43m:\u001B[49m\u001B[38;5;241;43m3\u001B[39;49m\u001B[43m]\u001B[49m\u001B[43m)\u001B[49m\u001B[43m,\u001B[49m\n\u001B[1;32m    243\u001B[0m \u001B[43m    \u001B[49m\u001B[43m)\u001B[49m\u001B[43m \u001B[49m\u001B[38;5;28;43;01mas\u001B[39;49;00m\u001B[43m \u001B[49m\u001B[43mpool\u001B[49m\u001B[43m:\u001B[49m\n\u001B[1;32m    244\u001B[0m \u001B[43m        \u001B[49m\u001B[38;5;28;43;01mfor\u001B[39;49;00m\u001B[43m \u001B[49m\u001B[43mrxn_id\u001B[49m\u001B[43m,\u001B[49m\u001B[43m \u001B[49m\u001B[43mvalue\u001B[49m\u001B[43m \u001B[49m\u001B[38;5;129;43;01min\u001B[39;49;00m\u001B[43m \u001B[49m\u001B[43mpool\u001B[49m\u001B[38;5;241;43m.\u001B[39;49m\u001B[43mimap_unordered\u001B[49m\u001B[43m(\u001B[49m\n\u001B[1;32m    245\u001B[0m \u001B[43m            \u001B[49m\u001B[43m_fva_step\u001B[49m\u001B[43m,\u001B[49m\u001B[43m \u001B[49m\u001B[43mreaction_ids\u001B[49m\u001B[43m,\u001B[49m\u001B[43m \u001B[49m\u001B[43mchunksize\u001B[49m\u001B[38;5;241;43m=\u001B[39;49m\u001B[43mchunk_size\u001B[49m\n\u001B[1;32m    246\u001B[0m \u001B[43m        \u001B[49m\u001B[43m)\u001B[49m\u001B[43m:\u001B[49m\n\u001B[1;32m    247\u001B[0m \u001B[43m            \u001B[49m\u001B[43mfva_result\u001B[49m\u001B[38;5;241;43m.\u001B[39;49m\u001B[43mat\u001B[49m\u001B[43m[\u001B[49m\u001B[43mrxn_id\u001B[49m\u001B[43m,\u001B[49m\u001B[43m \u001B[49m\u001B[43mwhat\u001B[49m\u001B[43m]\u001B[49m\u001B[43m \u001B[49m\u001B[38;5;241;43m=\u001B[39;49m\u001B[43m \u001B[49m\u001B[43mvalue\u001B[49m\n",
      "File \u001B[0;32m~/miniforge3/envs/KiMAT/lib/python3.11/site-packages/cobra/util/process_pool.py:86\u001B[0m, in \u001B[0;36mProcessPool.__exit__\u001B[0;34m(self, exc_type, exc_val, exc_tb)\u001B[0m\n\u001B[1;32m     84\u001B[0m \u001B[38;5;28;01mtry\u001B[39;00m:\n\u001B[1;32m     85\u001B[0m     \u001B[38;5;28mself\u001B[39m\u001B[38;5;241m.\u001B[39m_pool\u001B[38;5;241m.\u001B[39mclose()\n\u001B[0;32m---> 86\u001B[0m     \u001B[38;5;28;43mself\u001B[39;49m\u001B[38;5;241;43m.\u001B[39;49m\u001B[43m_pool\u001B[49m\u001B[38;5;241;43m.\u001B[39;49m\u001B[43mjoin\u001B[49m\u001B[43m(\u001B[49m\u001B[43m)\u001B[49m\n\u001B[1;32m     87\u001B[0m \u001B[38;5;28;01mfinally\u001B[39;00m:\n\u001B[1;32m     88\u001B[0m     \u001B[38;5;28mself\u001B[39m\u001B[38;5;241m.\u001B[39m_clean_up()\n",
      "File \u001B[0;32m~/miniforge3/envs/KiMAT/lib/python3.11/multiprocessing/pool.py:665\u001B[0m, in \u001B[0;36mPool.join\u001B[0;34m(self)\u001B[0m\n\u001B[1;32m    663\u001B[0m \u001B[38;5;28;01melif\u001B[39;00m \u001B[38;5;28mself\u001B[39m\u001B[38;5;241m.\u001B[39m_state \u001B[38;5;129;01mnot\u001B[39;00m \u001B[38;5;129;01min\u001B[39;00m (CLOSE, TERMINATE):\n\u001B[1;32m    664\u001B[0m     \u001B[38;5;28;01mraise\u001B[39;00m \u001B[38;5;167;01mValueError\u001B[39;00m(\u001B[38;5;124m\"\u001B[39m\u001B[38;5;124mIn unknown state\u001B[39m\u001B[38;5;124m\"\u001B[39m)\n\u001B[0;32m--> 665\u001B[0m \u001B[38;5;28;43mself\u001B[39;49m\u001B[38;5;241;43m.\u001B[39;49m\u001B[43m_worker_handler\u001B[49m\u001B[38;5;241;43m.\u001B[39;49m\u001B[43mjoin\u001B[49m\u001B[43m(\u001B[49m\u001B[43m)\u001B[49m\n\u001B[1;32m    666\u001B[0m \u001B[38;5;28mself\u001B[39m\u001B[38;5;241m.\u001B[39m_task_handler\u001B[38;5;241m.\u001B[39mjoin()\n\u001B[1;32m    667\u001B[0m \u001B[38;5;28mself\u001B[39m\u001B[38;5;241m.\u001B[39m_result_handler\u001B[38;5;241m.\u001B[39mjoin()\n",
      "File \u001B[0;32m~/miniforge3/envs/KiMAT/lib/python3.11/threading.py:1119\u001B[0m, in \u001B[0;36mThread.join\u001B[0;34m(self, timeout)\u001B[0m\n\u001B[1;32m   1116\u001B[0m     \u001B[38;5;28;01mraise\u001B[39;00m \u001B[38;5;167;01mRuntimeError\u001B[39;00m(\u001B[38;5;124m\"\u001B[39m\u001B[38;5;124mcannot join current thread\u001B[39m\u001B[38;5;124m\"\u001B[39m)\n\u001B[1;32m   1118\u001B[0m \u001B[38;5;28;01mif\u001B[39;00m timeout \u001B[38;5;129;01mis\u001B[39;00m \u001B[38;5;28;01mNone\u001B[39;00m:\n\u001B[0;32m-> 1119\u001B[0m     \u001B[38;5;28;43mself\u001B[39;49m\u001B[38;5;241;43m.\u001B[39;49m\u001B[43m_wait_for_tstate_lock\u001B[49m\u001B[43m(\u001B[49m\u001B[43m)\u001B[49m\n\u001B[1;32m   1120\u001B[0m \u001B[38;5;28;01melse\u001B[39;00m:\n\u001B[1;32m   1121\u001B[0m     \u001B[38;5;66;03m# the behavior of a negative timeout isn't documented, but\u001B[39;00m\n\u001B[1;32m   1122\u001B[0m     \u001B[38;5;66;03m# historically .join(timeout=x) for x<0 has acted as if timeout=0\u001B[39;00m\n\u001B[1;32m   1123\u001B[0m     \u001B[38;5;28mself\u001B[39m\u001B[38;5;241m.\u001B[39m_wait_for_tstate_lock(timeout\u001B[38;5;241m=\u001B[39m\u001B[38;5;28mmax\u001B[39m(timeout, \u001B[38;5;241m0\u001B[39m))\n",
      "File \u001B[0;32m~/miniforge3/envs/KiMAT/lib/python3.11/threading.py:1139\u001B[0m, in \u001B[0;36mThread._wait_for_tstate_lock\u001B[0;34m(self, block, timeout)\u001B[0m\n\u001B[1;32m   1136\u001B[0m     \u001B[38;5;28;01mreturn\u001B[39;00m\n\u001B[1;32m   1138\u001B[0m \u001B[38;5;28;01mtry\u001B[39;00m:\n\u001B[0;32m-> 1139\u001B[0m     \u001B[38;5;28;01mif\u001B[39;00m \u001B[43mlock\u001B[49m\u001B[38;5;241;43m.\u001B[39;49m\u001B[43macquire\u001B[49m\u001B[43m(\u001B[49m\u001B[43mblock\u001B[49m\u001B[43m,\u001B[49m\u001B[43m \u001B[49m\u001B[43mtimeout\u001B[49m\u001B[43m)\u001B[49m:\n\u001B[1;32m   1140\u001B[0m         lock\u001B[38;5;241m.\u001B[39mrelease()\n\u001B[1;32m   1141\u001B[0m         \u001B[38;5;28mself\u001B[39m\u001B[38;5;241m.\u001B[39m_stop()\n",
      "\u001B[0;31mKeyboardInterrupt\u001B[0m: "
     ]
    }
   ],
   "execution_count": 10
  },
  {
   "metadata": {},
   "cell_type": "markdown",
   "source": "### MILP Model",
   "id": "6e49293008f98e5b"
  },
  {
   "metadata": {
    "ExecuteTime": {
     "end_time": "2024-04-10T22:30:46.009937Z",
     "start_time": "2024-04-10T22:30:46.009550Z"
    }
   },
   "cell_type": "code",
   "source": [
    "METHOD = \"milp_model\"\n",
    "model_dict = dict()\n",
    "print(METHOD)\n",
    "for condition in condition_dict:\n",
    "    print(condition)\n",
    "    p = pathlib.Path('..') / 'results' /  METHOD / f'iek1011_{condition}_model.json'\n",
    "    if p.exists():\n",
    "        model_dict[condition] = metworkpy.read_model(str(p))\n",
    "    else:\n",
    "        model_dict[condition] = metworkpy.imat.generate_model(model=iek1011.copy(), rxn_weights=condition_dict[condition], method=METHOD)\n",
    "        metworkpy.write_model(model_dict[condition], model_path=p)\n",
    "    biomass_growth_df.loc[condition, METHOD] = model_dict[condition].slim_optimize()"
   ],
   "id": "f71d08206b66209e",
   "outputs": [],
   "execution_count": null
  },
  {
   "metadata": {},
   "cell_type": "markdown",
   "source": "### Biomass Results",
   "id": "8f3ab7f8cf036899"
  },
  {
   "metadata": {},
   "cell_type": "code",
   "source": [
    "base_path = pathlib.Path(\"..\") / \"results\"\n",
    "biomass_growth_df.sort_index().to_csv(base_path / \"biomass_raw.csv\")\n",
    "\n",
    "biomass_prop = biomass_growth_df.drop(\"WT\", axis=0) / biomass_growth_df.loc[\"WT\"]\n",
    "biomass_prop.sort_index().to_csv(base_path / \"biomass_proportion.csv\")"
   ],
   "id": "7aad9d2f0a980a1f",
   "outputs": [],
   "execution_count": null
  }
 ],
 "metadata": {
  "kernelspec": {
   "display_name": "Python 3 (ipykernel)",
   "language": "python",
   "name": "python3"
  },
  "language_info": {
   "codemirror_mode": {
    "name": "ipython",
    "version": 3
   },
   "file_extension": ".py",
   "mimetype": "text/x-python",
   "name": "python",
   "nbconvert_exporter": "python",
   "pygments_lexer": "ipython3",
   "version": "3.11.8"
  }
 },
 "nbformat": 4,
 "nbformat_minor": 5
}
